{
 "cells": [
  {
   "cell_type": "markdown",
   "id": "4f5f4bfa-22ea-41ac-906c-cc49f36ac20c",
   "metadata": {},
   "source": [
    "<h1><center>TEXT CLASSIFICATION</center></h1>\n",
    "<h2><center> Assignment 7</center></h2>\n",
    "<h2><center>Cars Data </center></h2>"
   ]
  },
  {
   "cell_type": "markdown",
   "id": "ec45129e-b094-4fd9-924b-915f1d2192a7",
   "metadata": {},
   "source": [
    "## import libraries and load cars dataset"
   ]
  },
  {
   "cell_type": "code",
   "execution_count": 21,
   "id": "ee1d080e-7f82-4f15-bb90-a35a11306e0e",
   "metadata": {},
   "outputs": [
    {
     "name": "stdout",
     "output_type": "stream",
     "text": [
      "Defaulting to user installation because normal site-packages is not writeable\n",
      "Requirement already satisfied: pandas in c:\\programdata\\anaconda3\\lib\\site-packages (2.0.3)\n",
      "Requirement already satisfied: python-dateutil>=2.8.2 in c:\\programdata\\anaconda3\\lib\\site-packages (from pandas) (2.8.2)\n",
      "Requirement already satisfied: pytz>=2020.1 in c:\\programdata\\anaconda3\\lib\\site-packages (from pandas) (2023.3.post1)\n",
      "Requirement already satisfied: tzdata>=2022.1 in c:\\programdata\\anaconda3\\lib\\site-packages (from pandas) (2023.3)\n",
      "Requirement already satisfied: numpy>=1.21.0 in c:\\programdata\\anaconda3\\lib\\site-packages (from pandas) (1.24.3)\n",
      "Requirement already satisfied: six>=1.5 in c:\\programdata\\anaconda3\\lib\\site-packages (from python-dateutil>=2.8.2->pandas) (1.16.0)\n"
     ]
    },
    {
     "data": {
      "text/html": [
       "<div>\n",
       "<style scoped>\n",
       "    .dataframe tbody tr th:only-of-type {\n",
       "        vertical-align: middle;\n",
       "    }\n",
       "\n",
       "    .dataframe tbody tr th {\n",
       "        vertical-align: top;\n",
       "    }\n",
       "\n",
       "    .dataframe thead th {\n",
       "        text-align: right;\n",
       "    }\n",
       "</style>\n",
       "<table border=\"1\" class=\"dataframe\">\n",
       "  <thead>\n",
       "    <tr style=\"text-align: right;\">\n",
       "      <th></th>\n",
       "      <th>manufacturer_name</th>\n",
       "      <th>model_name</th>\n",
       "      <th>transmission</th>\n",
       "      <th>color</th>\n",
       "      <th>odometer_value</th>\n",
       "      <th>year_produced</th>\n",
       "      <th>engine_fuel</th>\n",
       "      <th>engine_has_gas</th>\n",
       "      <th>engine_type</th>\n",
       "      <th>engine_capacity</th>\n",
       "      <th>body_type</th>\n",
       "      <th>has_warranty</th>\n",
       "      <th>state</th>\n",
       "      <th>drivetrain</th>\n",
       "      <th>price_usd</th>\n",
       "    </tr>\n",
       "  </thead>\n",
       "  <tbody>\n",
       "    <tr>\n",
       "      <th>0</th>\n",
       "      <td>Subaru</td>\n",
       "      <td>Outback</td>\n",
       "      <td>automatic</td>\n",
       "      <td>silver</td>\n",
       "      <td>190000.0</td>\n",
       "      <td>2010</td>\n",
       "      <td>gasoline</td>\n",
       "      <td>False</td>\n",
       "      <td>gasoline</td>\n",
       "      <td>2.5</td>\n",
       "      <td>universal</td>\n",
       "      <td>False</td>\n",
       "      <td>owned</td>\n",
       "      <td>all</td>\n",
       "      <td>10900.00</td>\n",
       "    </tr>\n",
       "    <tr>\n",
       "      <th>1</th>\n",
       "      <td>Subaru</td>\n",
       "      <td>Outback</td>\n",
       "      <td>automatic</td>\n",
       "      <td>blue</td>\n",
       "      <td>290000.0</td>\n",
       "      <td>2002</td>\n",
       "      <td>gasoline</td>\n",
       "      <td>False</td>\n",
       "      <td>gasoline</td>\n",
       "      <td>3.0</td>\n",
       "      <td>universal</td>\n",
       "      <td>False</td>\n",
       "      <td>owned</td>\n",
       "      <td>all</td>\n",
       "      <td>5000.00</td>\n",
       "    </tr>\n",
       "    <tr>\n",
       "      <th>2</th>\n",
       "      <td>Subaru</td>\n",
       "      <td>Forester</td>\n",
       "      <td>automatic</td>\n",
       "      <td>red</td>\n",
       "      <td>402000.0</td>\n",
       "      <td>2001</td>\n",
       "      <td>gasoline</td>\n",
       "      <td>False</td>\n",
       "      <td>gasoline</td>\n",
       "      <td>2.5</td>\n",
       "      <td>suv</td>\n",
       "      <td>False</td>\n",
       "      <td>owned</td>\n",
       "      <td>all</td>\n",
       "      <td>2800.00</td>\n",
       "    </tr>\n",
       "    <tr>\n",
       "      <th>3</th>\n",
       "      <td>Subaru</td>\n",
       "      <td>Impreza</td>\n",
       "      <td>mechanical</td>\n",
       "      <td>blue</td>\n",
       "      <td>10000.0</td>\n",
       "      <td>1999</td>\n",
       "      <td>gasoline</td>\n",
       "      <td>False</td>\n",
       "      <td>gasoline</td>\n",
       "      <td>3.0</td>\n",
       "      <td>sedan</td>\n",
       "      <td>False</td>\n",
       "      <td>owned</td>\n",
       "      <td>all</td>\n",
       "      <td>9999.00</td>\n",
       "    </tr>\n",
       "    <tr>\n",
       "      <th>4</th>\n",
       "      <td>Subaru</td>\n",
       "      <td>Legacy</td>\n",
       "      <td>automatic</td>\n",
       "      <td>black</td>\n",
       "      <td>280000.0</td>\n",
       "      <td>2001</td>\n",
       "      <td>gasoline</td>\n",
       "      <td>False</td>\n",
       "      <td>gasoline</td>\n",
       "      <td>2.5</td>\n",
       "      <td>universal</td>\n",
       "      <td>False</td>\n",
       "      <td>owned</td>\n",
       "      <td>all</td>\n",
       "      <td>2134.11</td>\n",
       "    </tr>\n",
       "    <tr>\n",
       "      <th>5</th>\n",
       "      <td>Subaru</td>\n",
       "      <td>Outback</td>\n",
       "      <td>automatic</td>\n",
       "      <td>silver</td>\n",
       "      <td>132449.0</td>\n",
       "      <td>2011</td>\n",
       "      <td>gasoline</td>\n",
       "      <td>False</td>\n",
       "      <td>gasoline</td>\n",
       "      <td>2.5</td>\n",
       "      <td>universal</td>\n",
       "      <td>False</td>\n",
       "      <td>owned</td>\n",
       "      <td>all</td>\n",
       "      <td>14700.00</td>\n",
       "    </tr>\n",
       "    <tr>\n",
       "      <th>6</th>\n",
       "      <td>Subaru</td>\n",
       "      <td>Forester</td>\n",
       "      <td>automatic</td>\n",
       "      <td>black</td>\n",
       "      <td>318280.0</td>\n",
       "      <td>1998</td>\n",
       "      <td>gasoline</td>\n",
       "      <td>False</td>\n",
       "      <td>gasoline</td>\n",
       "      <td>2.5</td>\n",
       "      <td>universal</td>\n",
       "      <td>False</td>\n",
       "      <td>owned</td>\n",
       "      <td>all</td>\n",
       "      <td>3000.00</td>\n",
       "    </tr>\n",
       "    <tr>\n",
       "      <th>7</th>\n",
       "      <td>Subaru</td>\n",
       "      <td>Legacy</td>\n",
       "      <td>automatic</td>\n",
       "      <td>silver</td>\n",
       "      <td>350000.0</td>\n",
       "      <td>2004</td>\n",
       "      <td>gasoline</td>\n",
       "      <td>False</td>\n",
       "      <td>gasoline</td>\n",
       "      <td>2.5</td>\n",
       "      <td>sedan</td>\n",
       "      <td>False</td>\n",
       "      <td>owned</td>\n",
       "      <td>all</td>\n",
       "      <td>4500.00</td>\n",
       "    </tr>\n",
       "    <tr>\n",
       "      <th>8</th>\n",
       "      <td>Subaru</td>\n",
       "      <td>Outback</td>\n",
       "      <td>automatic</td>\n",
       "      <td>grey</td>\n",
       "      <td>179000.0</td>\n",
       "      <td>2010</td>\n",
       "      <td>gasoline</td>\n",
       "      <td>False</td>\n",
       "      <td>gasoline</td>\n",
       "      <td>2.5</td>\n",
       "      <td>universal</td>\n",
       "      <td>False</td>\n",
       "      <td>owned</td>\n",
       "      <td>all</td>\n",
       "      <td>12900.00</td>\n",
       "    </tr>\n",
       "    <tr>\n",
       "      <th>9</th>\n",
       "      <td>Subaru</td>\n",
       "      <td>Forester</td>\n",
       "      <td>automatic</td>\n",
       "      <td>silver</td>\n",
       "      <td>571317.0</td>\n",
       "      <td>1999</td>\n",
       "      <td>gasoline</td>\n",
       "      <td>False</td>\n",
       "      <td>gasoline</td>\n",
       "      <td>2.5</td>\n",
       "      <td>universal</td>\n",
       "      <td>False</td>\n",
       "      <td>owned</td>\n",
       "      <td>all</td>\n",
       "      <td>4200.00</td>\n",
       "    </tr>\n",
       "  </tbody>\n",
       "</table>\n",
       "</div>"
      ],
      "text/plain": [
       "  manufacturer_name model_name transmission   color  odometer_value  \\\n",
       "0            Subaru    Outback    automatic  silver        190000.0   \n",
       "1            Subaru    Outback    automatic    blue        290000.0   \n",
       "2            Subaru   Forester    automatic     red        402000.0   \n",
       "3            Subaru    Impreza   mechanical    blue         10000.0   \n",
       "4            Subaru     Legacy    automatic   black        280000.0   \n",
       "5            Subaru    Outback    automatic  silver        132449.0   \n",
       "6            Subaru   Forester    automatic   black        318280.0   \n",
       "7            Subaru     Legacy    automatic  silver        350000.0   \n",
       "8            Subaru    Outback    automatic    grey        179000.0   \n",
       "9            Subaru   Forester    automatic  silver        571317.0   \n",
       "\n",
       "   year_produced engine_fuel  engine_has_gas engine_type  engine_capacity  \\\n",
       "0           2010    gasoline           False    gasoline              2.5   \n",
       "1           2002    gasoline           False    gasoline              3.0   \n",
       "2           2001    gasoline           False    gasoline              2.5   \n",
       "3           1999    gasoline           False    gasoline              3.0   \n",
       "4           2001    gasoline           False    gasoline              2.5   \n",
       "5           2011    gasoline           False    gasoline              2.5   \n",
       "6           1998    gasoline           False    gasoline              2.5   \n",
       "7           2004    gasoline           False    gasoline              2.5   \n",
       "8           2010    gasoline           False    gasoline              2.5   \n",
       "9           1999    gasoline           False    gasoline              2.5   \n",
       "\n",
       "   body_type has_warranty  state drivetrain  price_usd  \n",
       "0  universal        False  owned        all   10900.00  \n",
       "1  universal        False  owned        all    5000.00  \n",
       "2        suv        False  owned        all    2800.00  \n",
       "3      sedan        False  owned        all    9999.00  \n",
       "4  universal        False  owned        all    2134.11  \n",
       "5  universal        False  owned        all   14700.00  \n",
       "6  universal        False  owned        all    3000.00  \n",
       "7      sedan        False  owned        all    4500.00  \n",
       "8  universal        False  owned        all   12900.00  \n",
       "9  universal        False  owned        all    4200.00  "
      ]
     },
     "execution_count": 21,
     "metadata": {},
     "output_type": "execute_result"
    }
   ],
   "source": [
    "# Loading data set using pandas.\n",
    "!pip install pandas\n",
    "\n",
    "import pandas as pd\n",
    "\n",
    "file= \"C:/Users/shakkerar/Downloads/cars_Data.csv\"\n",
    "df = pd.read_csv('C:/Users/shakkerar/Downloads/cars_Data.csv', encoding='latin-1')\n",
    "df.head(10)"
   ]
  },
  {
   "cell_type": "markdown",
   "id": "c7ccaaa1-a346-4502-aad6-94ef9f4d5642",
   "metadata": {},
   "source": [
    "## Engine has gas "
   ]
  },
  {
   "cell_type": "code",
   "execution_count": 2,
   "id": "c6f70145-9fb9-4862-9ccf-061087c551b0",
   "metadata": {},
   "outputs": [
    {
     "data": {
      "text/plain": [
       "<Axes: xlabel='engine_has_gas'>"
      ]
     },
     "execution_count": 2,
     "metadata": {},
     "output_type": "execute_result"
    },
    {
     "data": {
      "image/png": "[encoded data removed]",
      "text/plain": [
       "<Figure size 640x480 with 1 Axes>"
      ]
     },
     "metadata": {},
     "output_type": "display_data"
    }
   ],
   "source": [
    "df['engine_has_gas'].value_counts().sort_index().plot(kind='bar')"
   ]
  },
  {
   "cell_type": "markdown",
   "id": "efa6df2f-f3f3-45ed-b830-60231a0aa5f3",
   "metadata": {},
   "source": [
    "## Function to remove odd words"
   ]
  },
  {
   "cell_type": "code",
   "execution_count": 22,
   "id": "c2af9dc0-b5d0-4105-8d0e-cd1da5b33a16",
   "metadata": {},
   "outputs": [],
   "source": [
    "import html\n",
    "import re\n",
    "\n",
    "def clean(text):\n",
    "    # Convert HTML escapes like & to characters.\n",
    "    text = html.unescape(text) \n",
    "    # Remove HTML tags.\n",
    "    text = re.sub(r'<[^<>]*>', ' ', text)\n",
    "    # Remove Markdown URLs like [Some text](https://....).\n",
    "    text = re.sub(r'\\[([^\\[\\]]*)\\]\\([^\\(\\)]*\\)', r'\\1', text)\n",
    "    # Remove text or code in brackets like [0].\n",
    "    text = re.sub(r'\\[[^\\[\\]]*\\]', ' ', text)\n",
    "    # Remove standalone sequences of specials.\n",
    "    text = re.sub(r'(?:^|\\s)[<>{}\\[\\]+|\\\\:-]{1,}(?:\\s|$)', ' ', text)\n",
    "    # Remove standalone sequences of hyphens like --- or ==.\n",
    "    text = re.sub(r'(?:^|\\s)[\\-=\\+]{2,}(?:\\s|$)', ' ', text)\n",
    "    # Remove sequences of white spaces.\n",
    "    text = re.sub(r'\\s+', ' ', text)\n",
    "    return text.strip()\n"
   ]
  },
  {
   "cell_type": "markdown",
   "id": "e048a1e0-5012-41ae-9a38-a6ee470a224a",
   "metadata": {},
   "source": [
    "## step 1: Data cleaning"
   ]
  },
  {
   "cell_type": "code",
   "execution_count": 7,
   "id": "49692c38-e427-4849-a530-3547cbbefcd4",
   "metadata": {},
   "outputs": [
    {
     "data": {
      "text/html": [
       "<div>\n",
       "<style scoped>\n",
       "    .dataframe tbody tr th:only-of-type {\n",
       "        vertical-align: middle;\n",
       "    }\n",
       "\n",
       "    .dataframe tbody tr th {\n",
       "        vertical-align: top;\n",
       "    }\n",
       "\n",
       "    .dataframe thead th {\n",
       "        text-align: right;\n",
       "    }\n",
       "</style>\n",
       "<table border=\"1\" class=\"dataframe\">\n",
       "  <thead>\n",
       "    <tr style=\"text-align: right;\">\n",
       "      <th></th>\n",
       "      <th>manufacturer_name</th>\n",
       "      <th>model_name</th>\n",
       "      <th>transmission</th>\n",
       "      <th>color</th>\n",
       "      <th>odometer_value</th>\n",
       "      <th>year_produced</th>\n",
       "      <th>engine_fuel</th>\n",
       "      <th>engine_has_gas</th>\n",
       "      <th>engine_type</th>\n",
       "      <th>engine_capacity</th>\n",
       "      <th>body_type</th>\n",
       "      <th>has_warranty</th>\n",
       "      <th>state</th>\n",
       "      <th>drivetrain</th>\n",
       "      <th>price_usd</th>\n",
       "    </tr>\n",
       "  </thead>\n",
       "  <tbody>\n",
       "    <tr>\n",
       "      <th>78</th>\n",
       "      <td>Subaru</td>\n",
       "      <td>Forester</td>\n",
       "      <td>automatic</td>\n",
       "      <td>blue</td>\n",
       "      <td>280000.0</td>\n",
       "      <td>2004</td>\n",
       "      <td>gasoline</td>\n",
       "      <td>False</td>\n",
       "      <td>gasoline</td>\n",
       "      <td>2.5</td>\n",
       "      <td>suv</td>\n",
       "      <td>False</td>\n",
       "      <td>owned</td>\n",
       "      <td>all</td>\n",
       "      <td>5800.0</td>\n",
       "    </tr>\n",
       "    <tr>\n",
       "      <th>338</th>\n",
       "      <td>LADA</td>\n",
       "      <td>Vesta</td>\n",
       "      <td>automatic</td>\n",
       "      <td>red</td>\n",
       "      <td>19800.0</td>\n",
       "      <td>2017</td>\n",
       "      <td>gasoline</td>\n",
       "      <td>False</td>\n",
       "      <td>gasoline</td>\n",
       "      <td>1.6</td>\n",
       "      <td>sedan</td>\n",
       "      <td>False</td>\n",
       "      <td>owned</td>\n",
       "      <td>front</td>\n",
       "      <td>9250.0</td>\n",
       "    </tr>\n",
       "  </tbody>\n",
       "</table>\n",
       "</div>"
      ],
      "text/plain": [
       "    manufacturer_name model_name transmission color  odometer_value  \\\n",
       "78             Subaru   Forester    automatic  blue        280000.0   \n",
       "338              LADA      Vesta    automatic   red         19800.0   \n",
       "\n",
       "     year_produced engine_fuel engine_has_gas engine_type  engine_capacity  \\\n",
       "78            2004    gasoline          False    gasoline              2.5   \n",
       "338           2017    gasoline          False    gasoline              1.6   \n",
       "\n",
       "    body_type has_warranty  state drivetrain  price_usd  \n",
       "78        suv        False  owned        all     5800.0  \n",
       "338     sedan        False  owned      front     9250.0  "
      ]
     },
     "execution_count": 7,
     "metadata": {},
     "output_type": "execute_result"
    }
   ],
   "source": [
    "import html\n",
    "import re\n",
    "\n",
    "def clean(text):\n",
    "    # convert html escapes like & to characters.\n",
    "    text = html.unescape(text) \n",
    "    # tags like \n",
    "    text = re.sub(r'<[^<>]*>', ' ', text)\n",
    "    # markdown URLs like [Some text](https://....)\n",
    "    text = re.sub(r'\\[([^\\[\\]]*)\\]\\([^\\(\\)]*\\)', r'\\1', text)\n",
    "    # text or code in brackets like [0]\n",
    "    text = re.sub(r'\\[[^\\[\\]]*\\]', ' ', text)\n",
    "    # standalone sequences of specials, matches  but not #cool\n",
    "    text = re.sub(r'(?:^|\\s)[<>{}\\[\\]+|\\\\:-]{1,}(?:\\s|$)', ' ', text)\n",
    "    # standalone sequences of hyphens like --- or ==\n",
    "    text = re.sub(r'(?:^|\\s)[\\-=\\+]{2,}(?:\\s|$)', ' ', text)\n",
    "    # sequences of white spaces\n",
    "    text = re.sub(r'\\s+', ' ', text)\n",
    "    return text.strip()\n",
    "\n",
    "\n",
    "def remove_odd_words(text):\n",
    "    return re.sub(r'[^a-zA-Z\\s]', '', text)\n",
    "    \n",
    "df['model_name'] = df['model_name'].apply(remove_odd_words)\n",
    "\n",
    "# Displaying a random sample of 2 rows\n",
    "df.sample(2)"
   ]
  },
  {
   "cell_type": "markdown",
   "id": "5543ec66-b0a9-4df1-8eea-958d2bbab0ec",
   "metadata": {},
   "source": [
    " ## Step 2: Train & Test Split"
   ]
  },
  {
   "cell_type": "code",
   "execution_count": 8,
   "id": "9639fee6-5f96-4066-bf9e-c1eeb2161298",
   "metadata": {},
   "outputs": [
    {
     "name": "stdout",
     "output_type": "stream",
     "text": [
      "Size of Training Features: (400,)\n",
      "Size of Testing Features: (100,)\n",
      "Size of Training Labels: (400,)\n",
      "Size of Testing Labels: (100,)\n"
     ]
    }
   ],
   "source": [
    "from sklearn.model_selection import train_test_split\n",
    "\n",
    "# Assuming df is your DataFrame containing the dataset\n",
    "X = df['model_name']  # Features\n",
    "y = df['engine_has_gas']  # Target variable\n",
    "\n",
    "# Split the dataset into training and testing sets\n",
    "X_train, X_test, y_train, y_test = train_test_split(X, y, test_size=0.2, random_state=42)\n",
    "\n",
    "# Print the sizes of the resulting sets\n",
    "print(\"Size of Training Features:\", X_train.shape)\n",
    "print(\"Size of Testing Features:\", X_test.shape)\n",
    "print(\"Size of Training Labels:\", y_train.shape)\n",
    "print(\"Size of Testing Labels:\", y_test.shape)"
   ]
  },
  {
   "cell_type": "markdown",
   "id": "c8a5142d-2ce9-4d7c-9a80-f5be9fd7c673",
   "metadata": {},
   "source": [
    "## Step 3: Training the model"
   ]
  },
  {
   "cell_type": "markdown",
   "id": "58122e27-ddd9-4340-8466-5a19d33ab98c",
   "metadata": {},
   "source": [
    "### Convert X_train to numbers"
   ]
  },
  {
   "cell_type": "code",
   "execution_count": 9,
   "id": "49d5a1dd-c317-4886-b4dd-9427ba0557fb",
   "metadata": {},
   "outputs": [
    {
     "name": "stdout",
     "output_type": "stream",
     "text": [
      "Shape of TF-IDF matrix for training data: (400, 17)\n",
      "Shape of TF-IDF matrix for test data: (100, 17)\n"
     ]
    }
   ],
   "source": [
    "from sklearn.feature_extraction.text import TfidfVectorizer\n",
    "from sklearn.svm import SVC\n",
    "\n",
    "\n",
    "# Initializing a TfidfVectorizer object with specified parameters\n",
    "tfidf = TfidfVectorizer(max_df=10, ngram_range=(1, 2), stop_words=\"english\")\n",
    "\n",
    "# Transforming the training data (X_train) into a TF-IDF representation\n",
    "X_train_tf = tfidf.fit_transform(X_train)\n",
    "\n",
    "# Transforming the test data (X_test) into a TF-IDF representation using the same vocabulary as the training data\n",
    "X_test_tf = tfidf.transform(X_test)\n",
    "\n",
    "print(\"Shape of TF-IDF matrix for training data:\", X_train_tf.shape)\n",
    "print(\"Shape of TF-IDF matrix for test data:\", X_test_tf.shape)\n"
   ]
  },
  {
   "cell_type": "markdown",
   "id": "c6a0d3c4-9f0e-4fcc-ace4-90674d8775dc",
   "metadata": {},
   "source": [
    " ## Building a model "
   ]
  },
  {
   "cell_type": "code",
   "execution_count": 10,
   "id": "982f7f8e-2ee9-41cf-9c52-1d1014042b78",
   "metadata": {},
   "outputs": [
    {
     "data": {
      "text/html": [
       "<style>#sk-container-id-1 {color: black;}#sk-container-id-1 pre{padding: 0;}#sk-container-id-1 div.sk-toggleable {background-color: white;}#sk-container-id-1 label.sk-toggleable__label {cursor: pointer;display: block;width: 100%;margin-bottom: 0;padding: 0.3em;box-sizing: border-box;text-align: center;}#sk-container-id-1 label.sk-toggleable__label-arrow:before {content: \"▸\";float: left;margin-right: 0.25em;color: #696969;}#sk-container-id-1 label.sk-toggleable__label-arrow:hover:before {color: black;}#sk-container-id-1 div.sk-estimator:hover label.sk-toggleable__label-arrow:before {color: black;}#sk-container-id-1 div.sk-toggleable__content {max-height: 0;max-width: 0;overflow: hidden;text-align: left;background-color: #f0f8ff;}#sk-container-id-1 div.sk-toggleable__content pre {margin: 0.2em;color: black;border-radius: 0.25em;background-color: #f0f8ff;}#sk-container-id-1 input.sk-toggleable__control:checked~div.sk-toggleable__content {max-height: 200px;max-width: 100%;overflow: auto;}#sk-container-id-1 input.sk-toggleable__control:checked~label.sk-toggleable__label-arrow:before {content: \"▾\";}#sk-container-id-1 div.sk-estimator input.sk-toggleable__control:checked~label.sk-toggleable__label {background-color: #d4ebff;}#sk-container-id-1 div.sk-label input.sk-toggleable__control:checked~label.sk-toggleable__label {background-color: #d4ebff;}#sk-container-id-1 input.sk-hidden--visually {border: 0;clip: rect(1px 1px 1px 1px);clip: rect(1px, 1px, 1px, 1px);height: 1px;margin: -1px;overflow: hidden;padding: 0;position: absolute;width: 1px;}#sk-container-id-1 div.sk-estimator {font-family: monospace;background-color: #f0f8ff;border: 1px dotted black;border-radius: 0.25em;box-sizing: border-box;margin-bottom: 0.5em;}#sk-container-id-1 div.sk-estimator:hover {background-color: #d4ebff;}#sk-container-id-1 div.sk-parallel-item::after {content: \"\";width: 100%;border-bottom: 1px solid gray;flex-grow: 1;}#sk-container-id-1 div.sk-label:hover label.sk-toggleable__label {background-color: #d4ebff;}#sk-container-id-1 div.sk-serial::before {content: \"\";position: absolute;border-left: 1px solid gray;box-sizing: border-box;top: 0;bottom: 0;left: 50%;z-index: 0;}#sk-container-id-1 div.sk-serial {display: flex;flex-direction: column;align-items: center;background-color: white;padding-right: 0.2em;padding-left: 0.2em;position: relative;}#sk-container-id-1 div.sk-item {position: relative;z-index: 1;}#sk-container-id-1 div.sk-parallel {display: flex;align-items: stretch;justify-content: center;background-color: white;position: relative;}#sk-container-id-1 div.sk-item::before, #sk-container-id-1 div.sk-parallel-item::before {content: \"\";position: absolute;border-left: 1px solid gray;box-sizing: border-box;top: 0;bottom: 0;left: 50%;z-index: -1;}#sk-container-id-1 div.sk-parallel-item {display: flex;flex-direction: column;z-index: 1;position: relative;background-color: white;}#sk-container-id-1 div.sk-parallel-item:first-child::after {align-self: flex-end;width: 50%;}#sk-container-id-1 div.sk-parallel-item:last-child::after {align-self: flex-start;width: 50%;}#sk-container-id-1 div.sk-parallel-item:only-child::after {width: 0;}#sk-container-id-1 div.sk-dashed-wrapped {border: 1px dashed gray;margin: 0 0.4em 0.5em 0.4em;box-sizing: border-box;padding-bottom: 0.4em;background-color: white;}#sk-container-id-1 div.sk-label label {font-family: monospace;font-weight: bold;display: inline-block;line-height: 1.2em;}#sk-container-id-1 div.sk-label-container {text-align: center;}#sk-container-id-1 div.sk-container {/* jupyter's `normalize.less` sets `[hidden] { display: none; }` but bootstrap.min.css set `[hidden] { display: none !important; }` so we also need the `!important` here to be able to override the default hidden behavior on the sphinx rendered scikit-learn.org. See: https://github.com/scikit-learn/scikit-learn/issues/21755 */display: inline-block !important;position: relative;}#sk-container-id-1 div.sk-text-repr-fallback {display: none;}</style><div id=\"sk-container-id-1\" class=\"sk-top-container\"><div class=\"sk-text-repr-fallback\"><pre>LinearSVC(dual=True, random_state=0, tol=1e-05)</pre><b>In a Jupyter environment, please rerun this cell to show the HTML representation or trust the notebook. <br />On GitHub, the HTML representation is unable to render, please try loading this page with nbviewer.org.</b></div><div class=\"sk-container\" hidden><div class=\"sk-item\"><div class=\"sk-estimator sk-toggleable\"><input class=\"sk-toggleable__control sk-hidden--visually\" id=\"sk-estimator-id-1\" type=\"checkbox\" checked><label for=\"sk-estimator-id-1\" class=\"sk-toggleable__label sk-toggleable__label-arrow\">LinearSVC</label><div class=\"sk-toggleable__content\"><pre>LinearSVC(dual=True, random_state=0, tol=1e-05)</pre></div></div></div></div></div>"
      ],
      "text/plain": [
       "LinearSVC(dual=True, random_state=0, tol=1e-05)"
      ]
     },
     "execution_count": 10,
     "metadata": {},
     "output_type": "execute_result"
    }
   ],
   "source": [
    "# Importing the LinearSVC class from the sklearn.svm module\n",
    "from sklearn.svm import LinearSVC\n",
    "\n",
    "# Initializing a LinearSVC model object with specified parameters\n",
    "# random_state=0 ensures reproducibility of results\n",
    "# tol=1e-5 specifies the tolerance for stopping criteria\n",
    "model1 = LinearSVC(random_state=0, tol=1e-5, dual=True)\n",
    "\n",
    "# Training the LinearSVC model on the TF-IDF transformed training data and corresponding target labels\n",
    "model1.fit(X_train_tf, y_train)"
   ]
  },
  {
   "cell_type": "markdown",
   "id": "bb9ffafb-6839-490d-99d7-24b4a11f358c",
   "metadata": {},
   "source": [
    " ## Step 4: Testing the Model"
   ]
  },
  {
   "cell_type": "markdown",
   "id": "04eb705b-d753-4df5-8f5e-6620f9261924",
   "metadata": {},
   "source": [
    " ### Accuracy of the Model"
   ]
  },
  {
   "cell_type": "code",
   "execution_count": 11,
   "id": "e905f2d4-0a1f-49c1-9869-fa46b64c50a1",
   "metadata": {},
   "outputs": [
    {
     "name": "stdout",
     "output_type": "stream",
     "text": [
      "Accuracy Score - 0.91\n"
     ]
    }
   ],
   "source": [
    "# Importing the accuracy_score function from sklearn.metrics module\n",
    "from sklearn.metrics import accuracy_score\n",
    "\n",
    "# Making predictions on the test data using the trained model\n",
    "Y_pred = model1.predict(X_test_tf)\n",
    "\n",
    "# Calculating the accuracy score by comparing the predicted labels (Y_pred) with the actual labels (Y_test)\n",
    "accuracy = accuracy_score(y_test, Y_pred)\n",
    "\n",
    "# Printing the accuracy score\n",
    "print('Accuracy Score -', accuracy)"
   ]
  },
  {
   "cell_type": "markdown",
   "id": "4d90e172-59c9-4568-87f9-a53f055fc875",
   "metadata": {},
   "source": [
    " ### Run the Dummy"
   ]
  },
  {
   "cell_type": "code",
   "execution_count": 12,
   "id": "bdf94964-871a-4a2d-a0fc-abd543c268e9",
   "metadata": {},
   "outputs": [
    {
     "name": "stdout",
     "output_type": "stream",
     "text": [
      "Accuracy Score - 0.91\n"
     ]
    }
   ],
   "source": [
    "# Importing the DummyClassifier class from sklearn.dummy module\n",
    "from sklearn.dummy import DummyClassifier\n",
    "\n",
    "# Creating a DummyClassifier object with 'most_frequent' strategy\n",
    "# 'most_frequent' strategy always predicts the most frequent class in the training data\n",
    "# random_state=42 ensures reproducibility of results\n",
    "clf = DummyClassifier(strategy='most_frequent', random_state=42)\n",
    "\n",
    "# Training the DummyClassifier on the training data\n",
    "clf.fit(X_train, y_train)\n",
    "\n",
    "# Making predictions on the test data using the trained DummyClassifier\n",
    "Y_pred_baseline = clf.predict(X_test)\n",
    "\n",
    "# Calculating the accuracy score by comparing the predicted labels (Y_pred_baseline) with the actual labels (Y_test)\n",
    "baseline_accuracy = accuracy_score(y_test, Y_pred_baseline)\n",
    "\n",
    "# Printing the accuracy score\n",
    "print('Accuracy Score -', baseline_accuracy)"
   ]
  },
  {
   "cell_type": "markdown",
   "id": "7a39c5ea-1aa8-46ba-a8bb-31849be7b02c",
   "metadata": {},
   "source": [
    " ## Confusion Matrix"
   ]
  },
  {
   "cell_type": "code",
   "execution_count": 13,
   "id": "1f2f7275-b6e4-4447-83b2-bdf8d31b796f",
   "metadata": {},
   "outputs": [
    {
     "name": "stdout",
     "output_type": "stream",
     "text": [
      "Confusion Matrix:\n",
      "[[91  0]\n",
      " [ 9  0]]\n"
     ]
    }
   ],
   "source": [
    "# Importing the confusion_matrix function from sklearn.metrics module\n",
    "from sklearn.metrics import confusion_matrix\n",
    "\n",
    "# Making predictions on the test data using the trained model\n",
    "Y_pred = model1.predict(X_test_tf)\n",
    "\n",
    "# Calculating the confusion matrix by comparing the predicted labels (Y_pred) with the actual labels (Y_test)\n",
    "# The confusion matrix provides a summary of predictions made by the model\n",
    "# Rows correspond to actual classes, while columns correspond to predicted classes\n",
    "# Each cell (i, j) in the matrix represents the number of instances of class i predicted as class j\n",
    "# The diagonal elements (top-left to bottom-right) represent correctly classified instances\n",
    "# Off-diagonal elements represent misclassifications\n",
    "conf_matrix = confusion_matrix(y_test, Y_pred)\n",
    "\n",
    "# Printing the confusion matrix\n",
    "print('Confusion Matrix:')\n",
    "print(conf_matrix)"
   ]
  },
  {
   "cell_type": "markdown",
   "id": "c5365f81-25cf-4607-9edd-f4f844ce0ab7",
   "metadata": {},
   "source": [
    " ## Plotting Confusion Matrix"
   ]
  },
  {
   "cell_type": "code",
   "execution_count": 14,
   "id": "48218fbe-dd3b-4b3a-bf96-7641818d0b5c",
   "metadata": {},
   "outputs": [
    {
     "data": {
      "image/png": "[encoded data removed]",
      "text/plain": [
       "<Figure size 800x600 with 2 Axes>"
      ]
     },
     "metadata": {},
     "output_type": "display_data"
    }
   ],
   "source": [
    "from sklearn.metrics import confusion_matrix, ConfusionMatrixDisplay\n",
    "import matplotlib.pyplot as plt\n",
    "import seaborn as sns\n",
    "\n",
    "# Calculating the confusion matrix\n",
    "conf_matrix = confusion_matrix(y_test, Y_pred)\n",
    "\n",
    "# Creating a ConfusionMatrixDisplay object with the confusion matrix\n",
    "cm_display = ConfusionMatrixDisplay(confusion_matrix=conf_matrix, display_labels=model1.classes_)\n",
    "\n",
    "# Plotting the confusion matrix\n",
    "conf_matrix = confusion_matrix(y_test, Y_pred)\n",
    "plt.figure(figsize=(8, 6))\n",
    "sns.heatmap(conf_matrix, annot=True, fmt='d', cmap='Blues', xticklabels=['true', 'false'], yticklabels=['true', 'false'])\n",
    "plt.xlabel('Predicted')\n",
    "plt.ylabel('Actual')\n",
    "plt.title('Confusion Matrix')\n",
    "plt.show()\n"
   ]
  },
  {
   "cell_type": "markdown",
   "id": "4d1889cd-ab72-4ba4-860b-a9ae000a552b",
   "metadata": {},
   "source": [
    " ## Classification Report"
   ]
  },
  {
   "cell_type": "code",
   "execution_count": 15,
   "id": "41d634bd-a6b5-448f-82da-4dc4e4e95689",
   "metadata": {},
   "outputs": [
    {
     "name": "stdout",
     "output_type": "stream",
     "text": [
      "Classification Report:\n",
      "               precision    recall  f1-score   support\n",
      "\n",
      "       False       0.91      1.00      0.95        91\n",
      "        True       0.00      0.00      0.00         9\n",
      "\n",
      "    accuracy                           0.91       100\n",
      "   macro avg       0.46      0.50      0.48       100\n",
      "weighted avg       0.83      0.91      0.87       100\n",
      "\n"
     ]
    },
    {
     "name": "stderr",
     "output_type": "stream",
     "text": [
      "C:\\ProgramData\\anaconda3\\Lib\\site-packages\\sklearn\\metrics\\_classification.py:1469: UndefinedMetricWarning: Precision and F-score are ill-defined and being set to 0.0 in labels with no predicted samples. Use `zero_division` parameter to control this behavior.\n",
      "  _warn_prf(average, modifier, msg_start, len(result))\n",
      "C:\\ProgramData\\anaconda3\\Lib\\site-packages\\sklearn\\metrics\\_classification.py:1469: UndefinedMetricWarning: Precision and F-score are ill-defined and being set to 0.0 in labels with no predicted samples. Use `zero_division` parameter to control this behavior.\n",
      "  _warn_prf(average, modifier, msg_start, len(result))\n",
      "C:\\ProgramData\\anaconda3\\Lib\\site-packages\\sklearn\\metrics\\_classification.py:1469: UndefinedMetricWarning: Precision and F-score are ill-defined and being set to 0.0 in labels with no predicted samples. Use `zero_division` parameter to control this behavior.\n",
      "  _warn_prf(average, modifier, msg_start, len(result))\n"
     ]
    }
   ],
   "source": [
    "from sklearn.metrics import classification_report\n",
    "\n",
    "# Print classification report with zero_division='warn'\n",
    "print(\"Classification Report:\\n\", classification_report(y_test, Y_pred))"
   ]
  },
  {
   "cell_type": "markdown",
   "id": "73802062-a4e6-49d2-8957-dbcbaa9b2f86",
   "metadata": {},
   "source": [
    " ## Dawnsampling"
   ]
  },
  {
   "cell_type": "code",
   "execution_count": 17,
   "id": "da382c42-5203-47bf-a2c8-bd192cced911",
   "metadata": {},
   "outputs": [
    {
     "name": "stdout",
     "output_type": "stream",
     "text": [
      "Empty DataFrame\n",
      "Columns: [manufacturer_name, model_name, transmission, color, odometer_value, year_produced, engine_fuel, engine_has_gas, engine_type, engine_capacity, body_type, has_warranty, state, drivetrain, price_usd]\n",
      "Index: []\n"
     ]
    }
   ],
   "source": [
    "import pandas as pd\n",
    "\n",
    "# Downsampling\n",
    "df_downsampled = pd.concat([df[df['engine_has_gas'] == 'true'].sample(n=len(df[df['engine_has_gas'] == 'flase']), random_state=42), df[df['engine_has_gas'] == 'true']])\n",
    "\n",
    "# Output\n",
    "print(df_downsampled)"
   ]
  },
  {
   "cell_type": "code",
   "execution_count": 19,
   "id": "b1de116c-7045-46c3-a31f-0f9866ab5fa7",
   "metadata": {},
   "outputs": [
    {
     "name": "stdout",
     "output_type": "stream",
     "text": [
      "Accuracy: 0.91\n",
      "Classification Report:\n",
      "               precision    recall  f1-score   support\n",
      "\n",
      "       False       0.91      1.00      0.95        91\n",
      "        True       0.00      0.00      0.00         9\n",
      "\n",
      "    accuracy                           0.91       100\n",
      "   macro avg       0.46      0.50      0.48       100\n",
      "weighted avg       0.83      0.91      0.87       100\n",
      "\n",
      "Confusion Matrix:\n",
      " [[91  0]\n",
      " [ 9  0]]\n"
     ]
    },
    {
     "name": "stderr",
     "output_type": "stream",
     "text": [
      "C:\\ProgramData\\anaconda3\\Lib\\site-packages\\sklearn\\metrics\\_classification.py:1469: UndefinedMetricWarning: Precision and F-score are ill-defined and being set to 0.0 in labels with no predicted samples. Use `zero_division` parameter to control this behavior.\n",
      "  _warn_prf(average, modifier, msg_start, len(result))\n",
      "C:\\ProgramData\\anaconda3\\Lib\\site-packages\\sklearn\\metrics\\_classification.py:1469: UndefinedMetricWarning: Precision and F-score are ill-defined and being set to 0.0 in labels with no predicted samples. Use `zero_division` parameter to control this behavior.\n",
      "  _warn_prf(average, modifier, msg_start, len(result))\n",
      "C:\\ProgramData\\anaconda3\\Lib\\site-packages\\sklearn\\metrics\\_classification.py:1469: UndefinedMetricWarning: Precision and F-score are ill-defined and being set to 0.0 in labels with no predicted samples. Use `zero_division` parameter to control this behavior.\n",
      "  _warn_prf(average, modifier, msg_start, len(result))\n"
     ]
    },
    {
     "data": {
      "image/png": "[encoded data removed]",
      "text/plain": [
       "<Figure size 800x600 with 2 Axes>"
      ]
     },
     "metadata": {},
     "output_type": "display_data"
    },
    {
     "name": "stderr",
     "output_type": "stream",
     "text": [
      "C:\\ProgramData\\anaconda3\\Lib\\site-packages\\sklearn\\metrics\\_ranking.py:979: UserWarning: No positive class found in y_true, recall is set to one for all thresholds.\n",
      "  warnings.warn(\n"
     ]
    },
    {
     "data": {
      "image/png": "[encoded data removed]",
      "text/plain": [
       "<Figure size 800x600 with 1 Axes>"
      ]
     },
     "metadata": {},
     "output_type": "display_data"
    }
   ],
   "source": [
    "from sklearn.feature_extraction.text import TfidfVectorizer\n",
    "from sklearn.naive_bayes import MultinomialNB\n",
    "from sklearn.pipeline import Pipeline\n",
    "from sklearn.model_selection import train_test_split\n",
    "from sklearn.metrics import accuracy_score, classification_report, confusion_matrix\n",
    "import seaborn as sns\n",
    "import matplotlib.pyplot as plt\n",
    "\n",
    "# Splitting the data into training and testing sets\n",
    "X_train, X_test, y_train, y_test = train_test_split(df['model_name'], df['engine_has_gas'], test_size=0.2, random_state=42)\n",
    "\n",
    "# Creating a pipeline\n",
    "pipeline = Pipeline([\n",
    "    ('tfidf', TfidfVectorizer()),\n",
    "    ('classifier', MultinomialNB())\n",
    "])\n",
    "\n",
    "# Training the model\n",
    "pipeline.fit(X_train, y_train)\n",
    "\n",
    "# Predicting on the test set\n",
    "y_pred = pipeline.predict(X_test)\n",
    "\n",
    "# Model evaluation\n",
    "accuracy = accuracy_score(y_test, y_pred)\n",
    "print(\"Accuracy:\", accuracy)\n",
    "print(\"Classification Report:\\n\", classification_report(y_test, y_pred))\n",
    "conf_matrix = confusion_matrix(y_test, y_pred)\n",
    "print(\"Confusion Matrix:\\n\", conf_matrix)\n",
    "\n",
    "# Plotting confusion matrix\n",
    "plt.figure(figsize=(8, 6))\n",
    "sns.heatmap(conf_matrix, annot=True, fmt=\"d\", cmap=\"Blues\", xticklabels=['true', 'false'], yticklabels=['true', 'flase'])\n",
    "plt.xlabel('Predicted')\n",
    "plt.ylabel('Actual')\n",
    "plt.title('Confusion Matrix')\n",
    "plt.show()\n",
    "\n",
    "from sklearn.metrics import precision_recall_curve, auc\n",
    "import matplotlib.pyplot as plt\n",
    "\n",
    "# Convert labels to binary format\n",
    "y_test_binary = (y_test == 'false').astype(int)\n",
    "\n",
    "# Calculate precision and recall\n",
    "precision, recall, _ = precision_recall_curve(y_test_binary, pipeline.predict_proba(X_test)[:, 1])\n",
    "\n",
    "# Calculate Area Under Curve (AUC) for precision-recall curve\n",
    "auc_score = auc(recall, precision)\n",
    "\n",
    "# Plot precision-recall curve\n",
    "plt.figure(figsize=(8, 6))\n",
    "plt.plot(recall, precision, label=f'Precision-Recall Curve (AUC = {auc_score:.2f})', color='b')\n",
    "plt.xlabel('Recall')\n",
    "plt.ylabel('Precision')\n",
    "plt.title('Precision-Recall Curve')\n",
    "plt.legend(loc='lower left')\n",
    "plt.grid(True)\n",
    "plt.show()\n"
   ]
  }
 ],
 "metadata": {
  "kernelspec": {
   "display_name": "Python 3 (ipykernel)",
   "language": "python",
   "name": "python3"
  },
  "language_info": {
   "codemirror_mode": {
    "name": "ipython",
    "version": 3
   },
   "file_extension": ".py",
   "mimetype": "text/x-python",
   "name": "python",
   "nbconvert_exporter": "python",
   "pygments_lexer": "ipython3",
   "version": "3.11.5"
  }
 },
 "nbformat": 4,
 "nbformat_minor": 5
}
