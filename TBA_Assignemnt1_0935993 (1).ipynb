{
 "cells": [
  {
   "cell_type": "markdown",
   "id": "4e04cb64-af56-4ec4-b927-982fec7c35ff",
   "metadata": {},
   "source": [
    "# Text Based Analysis - Assignment 1"
   ]
  },
  {
   "cell_type": "markdown",
   "id": "12dc7f11-a6ab-492b-b2a5-2901b9c7a7bc",
   "metadata": {},
   "source": [
    "## STRING objects in Python "
   ]
  },
  {
   "cell_type": "markdown",
   "id": "10f58824-a776-4dd0-afaa-8e29be1e936c",
   "metadata": {},
   "source": [
    "### Strings in Python "
   ]
  },
  {
   "cell_type": "markdown",
   "id": "fea824b5-0e5f-40c9-82da-a40080ac4892",
   "metadata": {},
   "source": [
    "##### Strings in Python are any sequence of characters enclosed within Quotes.\n",
    "##### The string can be enclosed within a single quote or within a double quote.\n",
    "##### The double quote is very useful as it can enclose a string which is containing a single quote within itself . Ex : \"Mr. Parker's Pen\""
   ]
  },
  {
   "cell_type": "markdown",
   "id": "6da6eb30-22b4-4885-a95c-d94397da8fea",
   "metadata": {},
   "source": [
    "### Defining a string variable - Using Double Quotes"
   ]
  },
  {
   "cell_type": "code",
   "execution_count": 2,
   "id": "55d8c5d3-f479-43fa-bf71-9c390f894e3a",
   "metadata": {},
   "outputs": [
    {
     "name": "stdout",
     "output_type": "stream",
     "text": [
      "String enclosed with double quotes\n",
      "Data Type of String_Var_1 is : <class 'str'>\n"
     ]
    }
   ],
   "source": [
    "# String enclosed with double quotes\n",
    "String_1 = \"String enclosed with double quotes\"\n",
    "\n",
    "# Print the content of the String Variable\n",
    "print(String_1)\n",
    "\n",
    "# Print the Data type of the String Variable & Check whether it is a string datatype or not\n",
    "print(\"Data Type of String_Var_1 is :\",type(String_1))"
   ]
  },
  {
   "cell_type": "markdown",
   "id": "f3dc3416-54dd-4749-9d6b-2a7b1f4d2a6a",
   "metadata": {},
   "source": [
    "### Defining a string variable - Using Single Quotes\n"
   ]
  },
  {
   "cell_type": "code",
   "execution_count": 3,
   "id": "b76b94d2-bf1a-4b96-88af-555d182191cc",
   "metadata": {},
   "outputs": [
    {
     "name": "stdout",
     "output_type": "stream",
     "text": [
      "String enclosed with single quotes\n",
      "Data Type of String_Var_2 is : <class 'str'>\n"
     ]
    }
   ],
   "source": [
    "# String enclosed with single quotes\n",
    "String_2 = 'String enclosed with single quotes'\n",
    "\n",
    "# Print the content of the String Variable\n",
    "print(String_2)\n",
    "\n",
    "# Print the Data type of the String Variable & Check whether it is a string datatype or not\n",
    "print(\"Data Type of String_Var_2 is :\" , type(String_2))"
   ]
  },
  {
   "cell_type": "markdown",
   "id": "c2baa75b-609b-4c8c-a614-4cd76b1cdde2",
   "metadata": {},
   "source": [
    "### Check whether 2 strings in Pyython containing the same set of characters are same or different when one of them is enclosed in single quotes and another one is enclosed in double quotes."
   ]
  },
  {
   "cell_type": "code",
   "execution_count": 86,
   "id": "29d467b4-8a84-4221-a0c0-adf18be5e268",
   "metadata": {},
   "outputs": [
    {
     "name": "stdout",
     "output_type": "stream",
     "text": [
      "String 1 with Double Quotes : String for comparison\n",
      "String 2 with Single Quotes : String for comparison\n",
      "\n",
      "\n",
      "Strings comparison result :-\n",
      "Both the Strings are Same \n"
     ]
    }
   ],
   "source": [
    "\n",
    "\n",
    "# Create a string enclosed with double quote\n",
    "String_Double_Quote = \"String for comparison\"\n",
    "\n",
    "# Create a second string enclosed with single quote\n",
    "String_Single_Quote = 'String for comparison'\n",
    "\n",
    "# Print both the strings \n",
    "print(\"String 1 with Double Quotes :\" ,String_Double_Quote)\n",
    "print(\"String 2 with Single Quotes :\" ,String_Single_Quote)\n",
    "print(\"\\n\")\n",
    "# check whether the above 2 strings are same or different \n",
    "print(\"Strings comparison result :-\")\n",
    "\n",
    "if String_Double_Quote == String_Single_Quote :\n",
    "    print(\"Both the Strings are Same \")\n",
    "else :\n",
    "    print(\"Both the Strings are Different\")"
   ]
  },
  {
   "cell_type": "markdown",
   "id": "926e2eba-d739-4ccc-bf7b-75482d712554",
   "metadata": {},
   "source": [
    "#### len() function - it returns the number of charachters in a string"
   ]
  },
  {
   "cell_type": "code",
   "execution_count": 7,
   "id": "4d94db1f-0637-4afc-b9e3-2766837b6ef7",
   "metadata": {},
   "outputs": [
    {
     "name": "stdout",
     "output_type": "stream",
     "text": [
      "Number of Characters in String_3 is : 10\n"
     ]
    }
   ],
   "source": [
    "# Define a String Variable\n",
    "String_3 = \"ABCDEFGHIJ\"\n",
    "\n",
    "# Print the Length ( no. of characters in a String ) of the string\n",
    "print( \"Number of Characters in String_3 is :\" , \n",
    "      len(String_3) )"
   ]
  },
  {
   "cell_type": "markdown",
   "id": "5f6d1b04-05ab-49c6-82ea-2f2efe361cc9",
   "metadata": {},
   "source": [
    "#### str() function - to convert a non string object to string"
   ]
  },
  {
   "cell_type": "code",
   "execution_count": 8,
   "id": "22280e9f-3e1d-4f21-ab52-c3e682f6f262",
   "metadata": {},
   "outputs": [
    {
     "name": "stdout",
     "output_type": "stream",
     "text": [
      "Value of Integer Variable :  1234\n",
      "Data Type of String containing the integer :  <class 'str'>\n",
      "Value of String Variable containing Integer:  1234\n"
     ]
    }
   ],
   "source": [
    "# Define an Integer Variable\n",
    "Integer_Var = 1234 \n",
    "\n",
    "# Check the datatype of the integer variable \n",
    "print(\"Value of Integer Variable : \" ,Integer_Var)\n",
    "\n",
    "# Convert the interger content into string using str() function\n",
    "Integer_Converted_to_String = str(Integer_Var)\n",
    "\n",
    "# Check the datatype of the converted string variable \n",
    "print(\"Data Type of String containing the integer : \", type(Integer_Converted_to_String))\n",
    "\n",
    "# Print the content of the string containing the number\n",
    "print(\"Value of String Variable containing Integer: \" ,Integer_Converted_to_String)"
   ]
  },
  {
   "cell_type": "markdown",
   "id": "4b9b80b1-abe3-4519-bbde-1b8e6583a1e9",
   "metadata": {},
   "source": [
    "#### String Concatenation : Cobining 2 strings into a single string\n",
    "#### Using the \"+\" operator"
   ]
  },
  {
   "cell_type": "code",
   "execution_count": 9,
   "id": "a237bcbc-88fc-4be2-a533-3e43d5baf27a",
   "metadata": {},
   "outputs": [
    {
     "name": "stdout",
     "output_type": "stream",
     "text": [
      "Concatenated String : Hello World !\n",
      "Variable containing Concatenated String : Hello World !\n"
     ]
    }
   ],
   "source": [
    "# String concatenation using + operator \n",
    "\n",
    "# Define two Strings\n",
    "String_1 = \"Hello \"\n",
    "String_2 = \"World !\"\n",
    "\n",
    "# Print the concatenated string \n",
    "# Concatenation using the \"+\" Operator\n",
    "print( \"Concatenated String :\" ,String_1 + String_2 )\n",
    "\n",
    "# We can also assign the concatenated string to a new string variable \n",
    "String_Concat = String_1 + String_2\n",
    "print(\"Variable containing Concatenated String :\" ,String_Concat)"
   ]
  },
  {
   "cell_type": "markdown",
   "id": "bee2b60a-76af-45df-92a7-5352b4ff2813",
   "metadata": {},
   "source": [
    "#### Indexing : accessing the individual characters of a string using index\n",
    "### Note - Python uses 'Zero Based Indexing'"
   ]
  },
  {
   "cell_type": "code",
   "execution_count": 12,
   "id": "9822eed3-0a19-44e7-8d04-27c5b2a2ccf9",
   "metadata": {},
   "outputs": [
    {
     "name": "stdout",
     "output_type": "stream",
     "text": [
      "String : Hello World !\n",
      "Character in 7th Position is :  W\n",
      "Last Character in the String is :  !\n"
     ]
    }
   ],
   "source": [
    "# Accessing the individual character of a string using Indexing\n",
    "\n",
    "# Lets first print the string \n",
    "print(\"String :\",String_Concat)\n",
    "\n",
    "# Now , lets access the 7th character of the string \n",
    "# As , Python uses zero indexing , \n",
    "# we have to use index of 6 to access 7th pos\n",
    "\n",
    "print(\"Character in 7th Position is : \" , String_Concat[6])\n",
    "\n",
    "# We can also access the characters from end of the string using negative index\n",
    "# lets access the last element of the string using the index of -1\n",
    "print(\"Last Character in the String is : \" , String_Concat[-1])"
   ]
  },
  {
   "cell_type": "markdown",
   "id": "3470e5be-8758-4495-b275-8a89fc887363",
   "metadata": {},
   "source": [
    "### Extractng a set of characters from a String"
   ]
  },
  {
   "cell_type": "markdown",
   "id": "5eebab67-75b6-4f7c-acfc-751d2fc71966",
   "metadata": {},
   "source": [
    "##### We can also extract a set of contigous characters from a string using range .\n",
    "\n",
    "##### lets fetch characters which are in - 4th position till 7th position\n",
    "\n",
    "##### In this case we have to use range of index in square bracket to fetch characters\n",
    "\n",
    "##### the index range to be used here is [3:8]\n",
    "\n",
    "##### Note : the value before ':' is starting index position\n",
    "\n",
    "##### the value after ':' is end index position (not included in fetch)"
   ]
  },
  {
   "cell_type": "code",
   "execution_count": 14,
   "id": "3637b44a-497c-4aec-993f-cbe53a67047c",
   "metadata": {},
   "outputs": [
    {
     "name": "stdout",
     "output_type": "stream",
     "text": [
      "Original String is :  Hello World !\n",
      "Characters between 4th and 8th positions are :  lo Wo\n"
     ]
    }
   ],
   "source": [
    "# Show the content of the Original String \n",
    "print(\"Original String is : \" , String_Concat)\n",
    "\n",
    "# Extract the characters between 4th and 8th postion\n",
    "print(\"Characters between 4th and 8th positions are : \" , String_Concat[3:8])"
   ]
  },
  {
   "cell_type": "markdown",
   "id": "fdf74aaf-5ba5-4dd3-9e32-4df4e5711f34",
   "metadata": {},
   "source": [
    "#### Extracting characters from start till certain index "
   ]
  },
  {
   "cell_type": "code",
   "execution_count": 15,
   "id": "0d2961b1-03d7-4df1-aff8-ccb7cdc34211",
   "metadata": {},
   "outputs": [
    {
     "name": "stdout",
     "output_type": "stream",
     "text": [
      "Original String is :  Hello World !\n",
      "First 4 characters in the String are :  Hell\n"
     ]
    }
   ],
   "source": [
    "# leaving the index on the left of ':' empty leads to \n",
    "# 0 being considered as Start Index\n",
    "\n",
    "print(\"Original String is : \" , String_Concat)\n",
    "print(\"First 4 characters in the String are : \" ,String_Concat[:4])"
   ]
  },
  {
   "cell_type": "markdown",
   "id": "a790728e-e3c7-4cdf-8423-2ffaaa617d37",
   "metadata": {},
   "source": [
    "#### Extracting characters from certain start index till end "
   ]
  },
  {
   "cell_type": "code",
   "execution_count": 16,
   "id": "e9615d7e-7051-4f0c-be9b-6b11d1b5d5f1",
   "metadata": {},
   "outputs": [
    {
     "name": "stdout",
     "output_type": "stream",
     "text": [
      "Original String is :  Hello World !\n",
      "Characters from 7th index till end of the String are :  orld !\n"
     ]
    }
   ],
   "source": [
    "# leaving the index on the right of ':' , leads to \n",
    "# end of the string being considered as stop point \n",
    "\n",
    "print(\"Original String is : \" , String_Concat)\n",
    "print(\"Characters from 7th index till end of the String are : \" , String_Concat[7:])"
   ]
  },
  {
   "cell_type": "markdown",
   "id": "2477820c-4ef0-4236-a32c-742bc22dad6f",
   "metadata": {},
   "source": [
    "#### Extracting characters between certain indexes with stride"
   ]
  },
  {
   "cell_type": "code",
   "execution_count": 17,
   "id": "0f2a9a8b-0a66-4daa-9c51-7cec82aabcc0",
   "metadata": {},
   "outputs": [
    {
     "name": "stdout",
     "output_type": "stream",
     "text": [
      "Original String is :  Hello World !\n",
      "2nd index till 7th index with strides of 2 is :  loW\n"
     ]
    }
   ],
   "source": [
    "# we will use 3rd argument in indexing which will denote the stride\n",
    "# Stride denotes the steps to jump after each character is fetched\n",
    "# Example : [2:8:2] means \n",
    "# Start from second index till 7th index while taking steps of 2\n",
    "\n",
    "print(\"Original String is : \" , String_Concat)\n",
    "print(\"2nd index till 7th index with strides of 2 is : \" , String_Concat[2:8:2])"
   ]
  },
  {
   "cell_type": "markdown",
   "id": "c86909df-264d-40da-9b30-e822e9f30533",
   "metadata": {},
   "source": [
    "#### Reversing the string using indexing"
   ]
  },
  {
   "cell_type": "code",
   "execution_count": 20,
   "id": "cb0b6f4e-a715-4623-a83e-4d9c710fdd24",
   "metadata": {},
   "outputs": [
    {
     "name": "stdout",
     "output_type": "stream",
     "text": [
      "Original String is :  Hello World !\n",
      "String in Reversed order is :  ! dlroW olleH\n"
     ]
    }
   ],
   "source": [
    "# leaving the start and end index as empty and \n",
    "# providing -1 as stride\n",
    "# will return the string in reverse\n",
    "\n",
    "print(\"Original String is : \" , String_Concat)\n",
    "print(\"String in Reversed order is : \" , String_Concat[::-1])"
   ]
  },
  {
   "cell_type": "markdown",
   "id": "5df17817-c9e1-4cbe-bdc4-be9b6f810595",
   "metadata": {},
   "source": [
    "# Python - String Methods"
   ]
  },
  {
   "cell_type": "markdown",
   "id": "15e99dc2-5c70-4f4a-87b7-f872b6fb5287",
   "metadata": {},
   "source": [
    "### Methods available for string objects"
   ]
  },
  {
   "cell_type": "markdown",
   "id": "be876c8d-fd99-445f-b60e-9149ac1e06e4",
   "metadata": {},
   "source": [
    "#### Method to convert a string to lower case"
   ]
  },
  {
   "cell_type": "code",
   "execution_count": 19,
   "id": "dedb3b77-54da-4147-95f9-06cc953a0d2b",
   "metadata": {},
   "outputs": [
    {
     "name": "stdout",
     "output_type": "stream",
     "text": [
      "The Original String is :  This is a String with Mixed Case\n",
      "Convertng the string characters to lower case :  this is a string with mixed case\n"
     ]
    }
   ],
   "source": [
    "String_Var = \"This is a String with Mixed Case\"\n",
    "\n",
    "# Print the content of the string variable \n",
    "print(\"The Original String is : \",String_Var)\n",
    "\n",
    "\n",
    "# Convert all the characters of the String to lower and print it \n",
    "print(\"Convertng the string characters to lower case : \" ,String_Var.lower())"
   ]
  },
  {
   "cell_type": "markdown",
   "id": "efa4b2ff-bc2e-430a-994a-b95a5cfa556f",
   "metadata": {},
   "source": [
    "#### Method to convert a string to Upper case"
   ]
  },
  {
   "cell_type": "code",
   "execution_count": 21,
   "id": "41d0363d-42c4-4a1f-b1ba-236ba3042da7",
   "metadata": {},
   "outputs": [
    {
     "name": "stdout",
     "output_type": "stream",
     "text": [
      "The Original String is :  This is a String with Mixed Case\n",
      "Convertng the string characters to upper case :  THIS IS A STRING WITH MIXED CASE\n"
     ]
    }
   ],
   "source": [
    "String_Var = \"This is a String with Mixed Case\"\n",
    "\n",
    "# Print the content of the string variable \n",
    "print(\"The Original String is : \",String_Var)\n",
    "\n",
    "# Convert all the characters of the String to lower and print it \n",
    "print(\"Convertng the string characters to upper case : \" ,String_Var.upper())"
   ]
  },
  {
   "cell_type": "markdown",
   "id": "0637735d-053f-4c0c-94cd-aefb6ed89408",
   "metadata": {},
   "source": [
    "#### Method to convert only the first character of the string to Upper case"
   ]
  },
  {
   "cell_type": "markdown",
   "id": "6c6a31e6-5a76-45e6-9178-faddcc08d8b7",
   "metadata": {},
   "source": [
    "#### Capitalize() method converts the first character of the string to Upper case while converting all other characters to lower c"
   ]
  },
  {
   "cell_type": "code",
   "execution_count": 22,
   "id": "9a84e163-ea3d-4203-84bf-dc8fb4f8de0f",
   "metadata": {},
   "outputs": [
    {
     "name": "stdout",
     "output_type": "stream",
     "text": [
      "The Original String is :  mt Everest\n",
      "Convertng the first character of String to upper case :  Mt everest\n"
     ]
    }
   ],
   "source": [
    "String_Var = \"mt Everest\"\n",
    "\n",
    "# Print the content of the string variable \n",
    "print(\"The Original String is : \",String_Var)\n",
    "\n",
    "# Convert all the characters of the String to lower and print it \n",
    "print(\"Convertng the first character of String to upper case : \" ,String_Var.capitalize())"
   ]
  },
  {
   "cell_type": "markdown",
   "id": "9416440a-613c-43d6-946e-6a37b9c9e0bd",
   "metadata": {},
   "source": [
    "#### Methods for splitting a string into substrings"
   ]
  },
  {
   "cell_type": "code",
   "execution_count": 24,
   "id": "719916ab-bab6-4d8b-b1fd-3a02b5744e70",
   "metadata": {},
   "outputs": [
    {
     "name": "stdout",
     "output_type": "stream",
     "text": [
      "The Original String is : Python String Processing\n",
      "The individual characters of String :  ['P', 'y', 't', 'h', 'o', 'n', ' ', 'S', 't', 'r', 'i', 'n', 'g', ' ', 'P', 'r', 'o', 'c', 'e', 's', 's', 'i', 'n', 'g']\n"
     ]
    }
   ],
   "source": [
    "String_Var = 'Python String Processing'\n",
    "\n",
    "# Print the content of the string \n",
    "print(\"The Original String is :\" ,String_Var )\n",
    "\n",
    "# Applying the list() function on a string will \n",
    "# return a list object containing \n",
    "# each character of the string as individual list element \n",
    "\n",
    "print(\"The individual characters of String : \",list(String_Var))"
   ]
  },
  {
   "cell_type": "markdown",
   "id": "ceca50a0-230e-4c19-a4ff-a46bb9767839",
   "metadata": {},
   "source": [
    "#### Negative Indexing"
   ]
  },
  {
   "cell_type": "markdown",
   "id": "6d15af9b-a9ad-4c9b-bd7b-ee34c0645b78",
   "metadata": {},
   "source": [
    "##### From: \"o\" in \"World!\" (position -5)\n",
    "\n",
    "##### To, but not included: \"d\" in \"World!\" (position -2):"
   ]
  },
  {
   "cell_type": "code",
   "execution_count": 44,
   "id": "136504a0-b7c8-40c7-8a8b-aaf1eeadea73",
   "metadata": {},
   "outputs": [
    {
     "name": "stdout",
     "output_type": "stream",
     "text": [
      "orl\n"
     ]
    }
   ],
   "source": [
    "b = \"Hello, World!\"\n",
    "print(b[-5:-2])"
   ]
  },
  {
   "cell_type": "code",
   "execution_count": 26,
   "id": "98f14f60-7413-4bd9-ae9a-e15ce983c283",
   "metadata": {},
   "outputs": [
    {
     "name": "stdout",
     "output_type": "stream",
     "text": [
      "The Original String is : Python String Processing\n",
      "Substrings from the String : ['Python', 'String', 'Processing']\n",
      "Substrings from the String : ['Python', 'String', 'Processing']\n"
     ]
    }
   ],
   "source": [
    "# Splitting a String into sub-strings and the splitting to be done based on a separator \n",
    "\n",
    "String_Var = 'Python String Processing'\n",
    "\n",
    "# Print the content of the string \n",
    "print(\"The Original String is :\" ,String_Var )\n",
    "\n",
    "\n",
    "# using the split() method , \n",
    "# split the string into substrings where \n",
    "# <empty space> is the separator \n",
    "# Note - split() method returns a list object \n",
    "# containing the substrings\n",
    "print(\"Substrings from the String :\" ,String_Var.split(\" \"))\n",
    "\n",
    "# Note : By default the split happens on <empty space> \n",
    "# and hence the argument to the split method can be \n",
    "# left empty if the string has to be splitted by space\n",
    "\n",
    "print(\"Substrings from the String :\" ,String_Var.split())\n"
   ]
  },
  {
   "cell_type": "markdown",
   "id": "ff6cb313-ae0a-4ee8-80a5-63c6a141ae0b",
   "metadata": {},
   "source": [
    "### Python String casefold() Method"
   ]
  },
  {
   "cell_type": "markdown",
   "id": "a18acb0b-cb22-4210-bb6f-794a39b37413",
   "metadata": {},
   "source": [
    " The casefold() method returns a string where all the characters are lower case.\n",
    " This method is similar to the lower() method, but the casefold() method is stronger, more aggressive, meaning that it will convert more characters into lower case, and will find more matches when comparing two strings and both are converted using the casefold() method."
   ]
  },
  {
   "cell_type": "code",
   "execution_count": 45,
   "id": "1b23b44c-b7cd-46d4-8afa-8d49df043f46",
   "metadata": {},
   "outputs": [
    {
     "name": "stdout",
     "output_type": "stream",
     "text": [
      "hello, and welcome to my world!\n"
     ]
    }
   ],
   "source": [
    "a = \"Hello, And Welcome To My World!\"\n",
    "\n",
    "x = a.casefold()\n",
    "\n",
    "print(x)"
   ]
  },
  {
   "cell_type": "markdown",
   "id": "3aec1005-574a-48dd-9c02-36f6943e4498",
   "metadata": {},
   "source": [
    "### Python String capitalize() Method"
   ]
  },
  {
   "cell_type": "markdown",
   "id": "fec10ae9-e3ed-4b1d-92d7-f1b55236aed0",
   "metadata": {},
   "source": [
    "The capitalize() method returns a string where the first character is upper case, and the rest is lower case.\n",
    "\n",
    "Syntax:string.capitalize()"
   ]
  },
  {
   "cell_type": "code",
   "execution_count": 46,
   "id": "6493fafa-ee68-4585-b277-ed57c83486dc",
   "metadata": {},
   "outputs": [
    {
     "name": "stdout",
     "output_type": "stream",
     "text": [
      "Hello, and welcome to my world.\n"
     ]
    }
   ],
   "source": [
    "b = \"hello, and welcome to my world.\"\n",
    "\n",
    "x = b.capitalize()\n",
    "\n",
    "print (x)\n"
   ]
  },
  {
   "cell_type": "markdown",
   "id": "9b1ef9eb-75e3-416e-b4bf-41c998571fde",
   "metadata": {},
   "source": [
    "####  what happens if the first character is a number"
   ]
  },
  {
   "cell_type": "code",
   "execution_count": 47,
   "id": "86deb5c1-299b-4aa7-94f0-976309b165b1",
   "metadata": {},
   "outputs": [
    {
     "name": "stdout",
     "output_type": "stream",
     "text": [
      "36 is my age.\n"
     ]
    }
   ],
   "source": [
    "c = \"36 is my age.\"\n",
    "\n",
    "x = c.capitalize()\n",
    "\n",
    "print (x)"
   ]
  },
  {
   "cell_type": "markdown",
   "id": "3a6271c1-60c9-4512-8475-d089a3a18cc4",
   "metadata": {},
   "source": [
    "### Python String center() Method"
   ]
  },
  {
   "cell_type": "markdown",
   "id": "4abca50b-c32d-4450-aa8e-6f568fe77136",
   "metadata": {},
   "source": [
    " The center() method will center align the string, using a specified character (space is default) as the fill character.\n",
    "\n",
    " Syntax: string.center(length, character)"
   ]
  },
  {
   "cell_type": "code",
   "execution_count": 51,
   "id": "37d33824-9e28-4bd0-ae42-e44c8ca3036f",
   "metadata": {},
   "outputs": [
    {
     "name": "stdout",
     "output_type": "stream",
     "text": [
      "       Ramya        \n"
     ]
    }
   ],
   "source": [
    "a = \"Ramya\"\n",
    "\n",
    "x = a.center(20)\n",
    "\n",
    "print(x)"
   ]
  },
  {
   "cell_type": "markdown",
   "id": "e1c3bb0d-98ed-4181-8e79-fe2f69577f0c",
   "metadata": {},
   "source": [
    "### Python String encode() Method"
   ]
  },
  {
   "cell_type": "markdown",
   "id": "3d91588c-83fd-4fe8-abdb-2199c4e343e9",
   "metadata": {},
   "source": [
    "The encode() method encodes the string, using the specified encoding. If no encoding is specified, UTF-8 will be used.\n",
    "\n",
    "Syntax: string.encode(encoding=encoding, errors=errors)"
   ]
  },
  {
   "cell_type": "markdown",
   "id": "c513d740-526d-4c06-9e85-e054230d6a30",
   "metadata": {},
   "source": [
    "v = \"My name is Ramya\"\n",
    "\n",
    "x = v.encode()\n",
    "\n",
    "print(x)"
   ]
  },
  {
   "cell_type": "code",
   "execution_count": 53,
   "id": "bd4d5934-5d26-41e5-8246-309532c21454",
   "metadata": {},
   "outputs": [
    {
     "name": "stdout",
     "output_type": "stream",
     "text": [
      "b'My name is Ramya'\n",
      "b'My name is Ramya'\n",
      "b'My name is Ramya'\n",
      "b'My name is Ramya'\n",
      "b'My name is Ramya'\n"
     ]
    }
   ],
   "source": [
    "txt = \"My name is Ramya\"\n",
    "\n",
    "print(txt.encode(encoding=\"ascii\",errors=\"backslashreplace\"))\n",
    "print(txt.encode(encoding=\"ascii\",errors=\"ignore\"))\n",
    "print(txt.encode(encoding=\"ascii\",errors=\"namereplace\"))\n",
    "print(txt.encode(encoding=\"ascii\",errors=\"replace\"))\n",
    "print(txt.encode(encoding=\"ascii\",errors=\"xmlcharrefreplace\"))"
   ]
  },
  {
   "cell_type": "markdown",
   "id": "025ba071-c2f8-42cb-a4cf-ec023525c85a",
   "metadata": {},
   "source": [
    "### Python String endswith() Method"
   ]
  },
  {
   "cell_type": "markdown",
   "id": "21111832-ed09-41af-a25e-3c0f87de15af",
   "metadata": {},
   "source": [
    "The endswith() method returns True if the string ends with the specified value, otherwise False.\n",
    "\n",
    "Syntax: string.endswith(value, start, end)"
   ]
  },
  {
   "cell_type": "code",
   "execution_count": 56,
   "id": "fc21763a-98a8-422b-94ca-e3a80c7a0f86",
   "metadata": {},
   "outputs": [
    {
     "name": "stdout",
     "output_type": "stream",
     "text": [
      "True\n"
     ]
    }
   ],
   "source": [
    "a = \"Hello, Ramya.\"\n",
    "\n",
    "x = a.endswith(\".\")\n",
    "\n",
    "print(x)"
   ]
  },
  {
   "cell_type": "code",
   "execution_count": 57,
   "id": "9d9529be-5b47-4a06-ad0f-774365391a66",
   "metadata": {},
   "outputs": [
    {
     "name": "stdout",
     "output_type": "stream",
     "text": [
      "False\n"
     ]
    }
   ],
   "source": [
    "# Check if position 5 to 11 ends with the phrase \"my world.\":\n",
    "txt = \"Hello, welcome to my world.\"\n",
    "\n",
    "x = txt.endswith(\"my world.\", 5, 11)\n",
    "\n",
    "print(x)"
   ]
  },
  {
   "cell_type": "markdown",
   "id": "13a44968-1269-46a2-b2c3-30a26b971b9b",
   "metadata": {},
   "source": [
    "### Python String expandtabs() Method"
   ]
  },
  {
   "cell_type": "code",
   "execution_count": 58,
   "id": "22a34fa4-95ee-47f6-bdef-de36fb4ca1e9",
   "metadata": {},
   "outputs": [
    {
     "name": "stdout",
     "output_type": "stream",
     "text": [
      "Original String:\n",
      "Hello\tworld!\tPython\tis\tawesome.\n",
      "\n",
      "Expanded String (default tab size):\n",
      "Hello   world!  Python  is      awesome.\n",
      "\n",
      "Expanded String (custom tab size - 4 spaces):\n",
      "Hello   world!  Python  is  awesome.\n"
     ]
    }
   ],
   "source": [
    "# Example string with tabs\n",
    "tabbed_string = \"Hello\\tworld!\\tPython\\tis\\tawesome.\"\n",
    "\n",
    "# Use expandtabs() with default tab size (8 spaces)\n",
    "expanded_string_default = tabbed_string.expandtabs()\n",
    "\n",
    "# Use expandtabs() with a custom tab size (4 spaces)\n",
    "expanded_string_custom = tabbed_string.expandtabs(4)\n",
    "\n",
    "# Print the original and expanded strings\n",
    "print(\"Original String:\")\n",
    "print(tabbed_string)\n",
    "\n",
    "print(\"\\nExpanded String (default tab size):\")\n",
    "print(expanded_string_default)\n",
    "\n",
    "print(\"\\nExpanded String (custom tab size - 4 spaces):\")\n",
    "print(expanded_string_custom)\n"
   ]
  },
  {
   "cell_type": "markdown",
   "id": "de9536ec-4a98-4882-872e-94fab4e6f51f",
   "metadata": {},
   "source": [
    "##### The above output explains, the expandtabs() method is applied to the tabbed_string. The first call uses the default tab size, which is 8 spaces. The second call specifies a custom tab size of 4 spaces. The output will show the original string and the expanded strings with the specified tab sizes."
   ]
  },
  {
   "cell_type": "markdown",
   "id": "c5d07e48-07ca-4f0c-adb4-32313861b65e",
   "metadata": {},
   "source": [
    "### Python String find() Method"
   ]
  },
  {
   "cell_type": "code",
   "execution_count": 87,
   "id": "00cfc96a-b388-4de2-8749-e42c4a4a77c1",
   "metadata": {},
   "outputs": [
    {
     "name": "stdout",
     "output_type": "stream",
     "text": [
      "7\n"
     ]
    }
   ],
   "source": [
    "a = \"Hello, welcome to my world.\"\n",
    "\n",
    "x = a.find(\"welcome\")\n",
    "\n",
    "print(x)"
   ]
  },
  {
   "cell_type": "markdown",
   "id": "a23148b0-73c4-4c9b-9303-1c12fd0682b7",
   "metadata": {},
   "source": [
    "### Python String format() Method"
   ]
  },
  {
   "cell_type": "markdown",
   "id": "76b3ea63-c3e3-4034-9eaa-b0b67f497bdb",
   "metadata": {},
   "source": [
    "The format() method in Python is used to format strings by replacing placeholders with values\n",
    "\n",
    "The placeholder is defined using curly brackets: {}. Read more about the placeholders in the Placeholder section below.\n",
    "\n",
    "The format() method returns the formatted string."
   ]
  },
  {
   "cell_type": "code",
   "execution_count": 60,
   "id": "4e221df7-281f-4ee5-8abc-e4ab2fe29017",
   "metadata": {},
   "outputs": [
    {
     "name": "stdout",
     "output_type": "stream",
     "text": [
      "My name is Ramya, I am 50 years old, and my height is 175.5 cm.\n",
      "The Laptop costs $1200.50.\n"
     ]
    }
   ],
   "source": [
    "# Example using positional arguments\n",
    "name = \"Ramya\"\n",
    "age = 50\n",
    "height = 175.5\n",
    "\n",
    "# Using positional arguments in the format method\n",
    "formatted_string = \"My name is {}, I am {} years old, and my height is {} cm.\".format(name, age, height)\n",
    "\n",
    "# Display the formatted string\n",
    "print(formatted_string)\n",
    "\n",
    "# Example using named arguments\n",
    "product = \"Laptop\"\n",
    "price = 1200.50\n",
    "\n",
    "# Using named arguments in the format method\n",
    "product_info = \"The {item} costs ${value:.2f}.\".format(item=product, value=price)\n",
    "\n",
    "# Display the formatted string\n",
    "print(product_info)\n"
   ]
  },
  {
   "cell_type": "markdown",
   "id": "bd6dd987-3e1b-48ed-beec-d96ae3c29995",
   "metadata": {},
   "source": [
    "### Formatting Types\n",
    "##### Inside the placeholders you can add a formatting type to format the result:"
   ]
  },
  {
   "cell_type": "code",
   "execution_count": 88,
   "id": "bddcdbc7-9d62-47f4-9516-cbc9fd0f69fc",
   "metadata": {},
   "outputs": [
    {
     "name": "stdout",
     "output_type": "stream",
     "text": [
      "We have 49       chickens.\n",
      "We have       49 chickens.\n",
      "We have    49    chickens.\n",
      "The temperature is between -3 and +7 degrees celsius.\n",
      "The temperature is between -3 and 7 degrees celsius.\n",
      "The temperature is between -3 and  7 degrees celsius.\n",
      "The universe is 13,800,000,000 years old.\n",
      "The binary version of 5 is 101\n",
      "You scored 25.000000%\n",
      "You scored 25%\n",
      "The Hexadecimal version of 255 is FF\n"
     ]
    }
   ],
   "source": [
    "#Use \"<\" to left-align the value:\n",
    "\n",
    "txt = \"We have {:<8} chickens.\"\n",
    "print(txt.format(49))\n",
    "\n",
    "#Use \">\" to right-align the value:\n",
    "\n",
    "txt = \"We have {:>8} chickens.\"\n",
    "print(txt.format(49))\n",
    "\n",
    "#Use \"^\" to center-align the value:\n",
    "\n",
    "txt = \"We have {:^8} chickens.\"\n",
    "print(txt.format(49))\n",
    "\n",
    "#Use \"+\" to always indicate if the number is positive or negative:\n",
    "\n",
    "txt = \"The temperature is between {:+} and {:+} degrees celsius.\"\n",
    "\n",
    "print(txt.format(-3, 7))\n",
    "#Use \"-\" to always indicate if the number is negative (positive numbers are displayed without any sign):\n",
    "\n",
    "txt = \"The temperature is between {:-} and {:-} degrees celsius.\"\n",
    "\n",
    "print(txt.format(-3, 7))\n",
    "\n",
    "#Use \" \" (a space) to insert a space before positive numbers and a minus sign before negative numbers:\n",
    "\n",
    "txt = \"The temperature is between {: } and {: } degrees celsius.\"\n",
    "\n",
    "print(txt.format(-3, 7))\n",
    "\n",
    "#Use \",\" to add a comma as a thousand separator:\n",
    "\n",
    "txt = \"The universe is {:,} years old.\"\n",
    "\n",
    "print(txt.format(13800000000))\n",
    "\n",
    "\n",
    "#Use \"b\" to convert the number into binary format:\n",
    "\n",
    "txt = \"The binary version of {0} is {0:b}\"\n",
    "\n",
    "print(txt.format(5))\n",
    "\n",
    "#Use \"%\" to convert the number into a percentage format:\n",
    "\n",
    "txt = \"You scored {:%}\"\n",
    "print(txt.format(0.25))\n",
    "\n",
    "#Or, without any decimals:\n",
    "\n",
    "txt = \"You scored {:.0%}\"\n",
    "print(txt.format(0.25))\n",
    "\n",
    "#Use \"X\" to convert the number into upper-case Hex format:\n",
    "\n",
    "txt = \"The Hexadecimal version of {0} is {0:X}\"\n",
    "\n",
    "print(txt.format(255))\n"
   ]
  },
  {
   "cell_type": "markdown",
   "id": "26cc8b8d-fb9d-487c-9675-1319b5a3e385",
   "metadata": {},
   "source": [
    "### Method for Joining a set of substrings into a single string"
   ]
  },
  {
   "cell_type": "code",
   "execution_count": 27,
   "id": "64120da8-e9ec-4cb3-90b2-3b9e43fc5a5f",
   "metadata": {},
   "outputs": [
    {
     "name": "stdout",
     "output_type": "stream",
     "text": [
      "Content of the List containing strings : ['Euclid', 'Newton', 'Einstien', 'Pascal']\n",
      "Combined / Joined String is : Euclid/Newton/Einstien/Pascal\n"
     ]
    }
   ],
   "source": [
    "# Joining a set of substrings into a single string \n",
    "# join() method takes a set of substrings as input and \n",
    "# returns a single combined string\n",
    "\n",
    "# Define a List of strings \n",
    "List_of_SubStrings =[ \"Euclid\" , \"Newton\" , \"Einstien\" , \"Pascal\"]\n",
    "\n",
    "# Print the content of the list containing sub-strings\n",
    "print(\"Content of the List containing strings :\" ,List_of_SubStrings)\n",
    "\n",
    "# Join the substrings into a single string separated by \"/\"\n",
    "Sep_Str = \"/\"\n",
    "print( \"Combined / Joined String is :\",Sep_Str.join(List_of_SubStrings))"
   ]
  },
  {
   "cell_type": "markdown",
   "id": "55e7591d-51f6-45a3-b42c-da0aa804b0fb",
   "metadata": {},
   "source": [
    "### Python String isascii() Method\n",
    " The isascii() method returns True if all the characters are ascii characters  (a-z).\n",
    "\n",
    "Syntax: string.isascii()"
   ]
  },
  {
   "cell_type": "code",
   "execution_count": 66,
   "id": "985d595e-71f1-4ca2-a5c1-f0dc32b0c53d",
   "metadata": {},
   "outputs": [
    {
     "name": "stdout",
     "output_type": "stream",
     "text": [
      "Is 'Hello123' ASCII? True\n",
      "Is '你好123' ASCII? False\n"
     ]
    }
   ],
   "source": [
    "# Example using isascii() method\n",
    "ascii_string = \"Hello123\"\n",
    "non_ascii_string = \"你好123\"\n",
    "\n",
    "# Check if all characters are ASCII in the first string\n",
    "is_ascii_result1 = ascii_string.isascii()\n",
    "\n",
    "# Check if all characters are ASCII in the second string\n",
    "is_ascii_result2 = non_ascii_string.isascii()\n",
    "\n",
    "# Display the results\n",
    "print(f\"Is '{ascii_string}' ASCII? {is_ascii_result1}\")\n",
    "print(f\"Is '{non_ascii_string}' ASCII? {is_ascii_result2}\")\n"
   ]
  },
  {
   "cell_type": "markdown",
   "id": "5442e9ed-4c5f-4bcf-8040-7e63439f0cb0",
   "metadata": {},
   "source": [
    "### Python String isdecimal() Method\n",
    "The isdecimal() method returns True if all the characters are decimals (0-9).\n",
    "\n",
    "This method can also be used on unicode objects\n",
    "\n",
    " Syntax: string.isdecimal()\n"
   ]
  },
  {
   "cell_type": "code",
   "execution_count": 67,
   "id": "f8f2f1d7-3877-4739-9a99-f35cf447e2cd",
   "metadata": {},
   "outputs": [
    {
     "name": "stdout",
     "output_type": "stream",
     "text": [
      "True\n",
      "False\n",
      "False\n"
     ]
    }
   ],
   "source": [
    "# Example 1\n",
    "string1 = \"12345\"\n",
    "result1 = string1.isdecimal()\n",
    "print(result1)  # Output: True\n",
    "\n",
    "# Example 2\n",
    "string2 = \"123.45\"\n",
    "result2 = string2.isdecimal()\n",
    "print(result2)  # Output: False\n",
    "\n",
    "# Example 3\n",
    "string3 = \"abc123\"\n",
    "result3 = string3.isdecimal()\n",
    "print(result3)  # Output: False\n"
   ]
  },
  {
   "cell_type": "markdown",
   "id": "0eaa385f-128d-4493-8ed5-ee42618cc192",
   "metadata": {},
   "source": [
    "### Python String isidentifier() Method\n",
    "\n",
    "The isidentifier() method in Python is used to check if a given string is a valid identifier. An identifier is a name given to entities like variables, functions, classes, etc., in Python. The rules for a valid identifier in Python are:\n",
    "\n",
    "\n",
    "1. It must start with a letter (a-z, A-Z) or an underscore (_).\n",
    "\n",
    "2. The rest of the identifier can contain letters, numbers, and underscores.\n",
    "\n",
    "The isidentifier() method returns True if the string is a valid identifier, and False otherwise."
   ]
  },
  {
   "cell_type": "code",
   "execution_count": 89,
   "id": "9f6f0a20-19f8-47df-bc96-0ffaca5042b9",
   "metadata": {},
   "outputs": [
    {
     "name": "stdout",
     "output_type": "stream",
     "text": [
      "True\n",
      "False\n"
     ]
    }
   ],
   "source": [
    "# Example 1\n",
    "identifier1 = \"variable_name\"\n",
    "result1 = identifier1.isidentifier()\n",
    "print(result1)  # Output: True\n",
    "\n",
    "# Example 2\n",
    "identifier2 = \"123variable\"\n",
    "result2 = identifier2.isidentifier()\n",
    "print(result2)  # Output: False\n"
   ]
  },
  {
   "cell_type": "markdown",
   "id": "272d4811-51d4-4dce-acee-c631214ed58d",
   "metadata": {},
   "source": [
    "### Python String islower() Method\n",
    "The islower() method in Python is a built-in string method that returns True if all alphabetic characters in a string are lowercase, and the string contains at least one lowercase alphabetic character. \n",
    "\n",
    "If the string is empty or contains non-alphabetic characters, it returns False."
   ]
  },
  {
   "cell_type": "code",
   "execution_count": 69,
   "id": "4e3ee4c7-c3d2-4c14-bdae-2c579387dd75",
   "metadata": {},
   "outputs": [
    {
     "name": "stdout",
     "output_type": "stream",
     "text": [
      "True\n",
      "False\n",
      "True\n",
      "False\n"
     ]
    }
   ],
   "source": [
    "# Example 1\n",
    "str1 = \"hello\"\n",
    "result1 = str1.islower()\n",
    "print(result1)  # Output: True\n",
    "\n",
    "# Example 2\n",
    "str2 = \"Hello\"\n",
    "result2 = str2.islower()\n",
    "print(result2)  # Output: False\n",
    "\n",
    "# Example 3\n",
    "str3 = \"123abc\"\n",
    "result3 = str3.islower()\n",
    "print(result3)  # Output: True\n",
    "\n",
    "# Example 4\n",
    "str4 = \"123ABC\"\n",
    "result4 = str4.islower()\n",
    "print(result4)  # Output: False\n"
   ]
  },
  {
   "cell_type": "markdown",
   "id": "ff1946a6-6fbc-4833-a9c7-7954e23914c4",
   "metadata": {},
   "source": [
    "### Python String isprintable() Method\n",
    "\n",
    "The isprintable() method in Python is a built-in string method that returns True if all characters in a string are printable, meaning they are either printable ASCII characters (including space) or characters for which ord(c) is greater than or equal to 32. If the string contains any non-printable characters, it returns False.\n"
   ]
  },
  {
   "cell_type": "code",
   "execution_count": 70,
   "id": "b52b478f-0a7a-4780-928c-5e253b8a2b6a",
   "metadata": {},
   "outputs": [
    {
     "name": "stdout",
     "output_type": "stream",
     "text": [
      "True\n",
      "False\n"
     ]
    }
   ],
   "source": [
    "# Example 1\n",
    "printable_str1 = \"Hello, World!\"\n",
    "result1 = printable_str1.isprintable()\n",
    "print(result1)  # Output: True\n",
    "\n",
    "# Example 2\n",
    "nonprintable_str = \"Hello\\tWorld!\"\n",
    "result2 = nonprintable_str.isprintable()\n",
    "print(result2)  # Output: False\n"
   ]
  },
  {
   "cell_type": "markdown",
   "id": "71258172-8820-4683-ab7b-9537d5a419f5",
   "metadata": {},
   "source": [
    "### Python String istitle() Method\n",
    "\n",
    "The istitle() method in Python is a built-in string method that returns True if the string is a titlecased string and False otherwise. A titlecased string means that the string follows the rules of a title: each word in the string begins with an uppercase character, and the rest of the characters in each word are lowercase"
   ]
  },
  {
   "cell_type": "code",
   "execution_count": 72,
   "id": "36b2e77a-5f74-4838-ac21-9fce4433f582",
   "metadata": {},
   "outputs": [
    {
     "name": "stdout",
     "output_type": "stream",
     "text": [
      "False\n",
      "True\n"
     ]
    }
   ],
   "source": [
    "# Example 1\n",
    "title_str1 = \"This Is a Title\"\n",
    "result1 = title_str1.istitle()\n",
    "print(result1)  # Output: True\n",
    "\n",
    "# Example 2\n",
    "title_str3 = \"Another Title 123\"\n",
    "result3 = title_str3.istitle()\n",
    "print(result3)  # Output: True\n"
   ]
  },
  {
   "cell_type": "markdown",
   "id": "9282ef05-7587-4c94-a730-252c058063c8",
   "metadata": {},
   "source": [
    "### Python String ljust() Method\n",
    "The ljust() method will left align the string, using a specified character (space is default) as the fill character.\n",
    "\n",
    "Syntax: string.ljust(length, character)"
   ]
  },
  {
   "cell_type": "code",
   "execution_count": 73,
   "id": "6f199341-94f1-440e-9609-2a705507fe65",
   "metadata": {},
   "outputs": [
    {
     "name": "stdout",
     "output_type": "stream",
     "text": [
      "bananaOOOOOOOOOOOOOO\n"
     ]
    }
   ],
   "source": [
    "a = \"banana\"\n",
    "\n",
    "x = a.ljust(20, \"O\")\n",
    "\n",
    "print(x)"
   ]
  },
  {
   "cell_type": "markdown",
   "id": "910b30ac-f148-4443-ba90-9e71e453b1fa",
   "metadata": {},
   "source": [
    "### Python String maketrans() Method\n",
    "\n",
    "The maketrans() method in Python is a built-in string method used to create a translation table. This translation table can be passed as an argument to the translate() method to perform specific character replacements in a string."
   ]
  },
  {
   "cell_type": "code",
   "execution_count": 74,
   "id": "6a29ee6e-22df-40d9-bdb1-26504b327ed6",
   "metadata": {},
   "outputs": [
    {
     "name": "stdout",
     "output_type": "stream",
     "text": [
      "h2ll4 w4rld\n",
      "hEllO wOrld\n"
     ]
    }
   ],
   "source": [
    "# Example 1\n",
    "intab = \"aeiou\"\n",
    "outtab = \"12345\"\n",
    "trans_table = str.maketrans(intab, outtab)\n",
    "\n",
    "text = \"hello world\"\n",
    "translated_text = text.translate(trans_table)\n",
    "print(translated_text)  # Output: h2ll4 w4rld\n",
    "\n",
    "# Example 2\n",
    "replace_dict = {ord('a'): 'A', ord('e'): 'E', ord('i'): 'I', ord('o'): 'O', ord('u'): 'U'}\n",
    "trans_table2 = str.maketrans(replace_dict)\n",
    "\n",
    "text2 = \"hello world\"\n",
    "translated_text2 = text2.translate(trans_table2)\n",
    "print(translated_text2)  # Output: hEllo world\n"
   ]
  },
  {
   "cell_type": "markdown",
   "id": "dacfc2e0-6f52-44ac-a2fc-83da39e3b7bc",
   "metadata": {},
   "source": [
    "### Python String partition() Method\n",
    "The partition() method searches for a specified string, and splits the string into a tuple containing three elements.\n",
    "\n",
    "The first element contains the part before the specified string.\n",
    "\n",
    "The second element contains the specified string.\n",
    "\n",
    "The third element contains the part after the string.\n"
   ]
  },
  {
   "cell_type": "code",
   "execution_count": 75,
   "id": "e1772469-2c35-4cd0-8e67-0b0ad730c568",
   "metadata": {},
   "outputs": [
    {
     "name": "stdout",
     "output_type": "stream",
     "text": [
      "('I could eat bananas all day', '', '')\n"
     ]
    }
   ],
   "source": [
    "a = \"I could eat bananas all day\"\n",
    "\n",
    "x = a.partition(\"apples\")\n",
    "\n",
    "print(x)"
   ]
  },
  {
   "cell_type": "markdown",
   "id": "9e334af5-e311-48fa-8f0f-d91e5cef7117",
   "metadata": {},
   "source": [
    "### Python String rfind() Method\n",
    "The rfind() method in Python is a built-in string method that is used to find the highest index at which a substring (or a specified value) is found within the given string. If the substring is not found, it returns -1."
   ]
  },
  {
   "cell_type": "code",
   "execution_count": 76,
   "id": "7e4b2f03-86b4-4822-8939-32038cff1418",
   "metadata": {},
   "outputs": [
    {
     "name": "stdout",
     "output_type": "stream",
     "text": [
      "19\n",
      "0\n"
     ]
    }
   ],
   "source": [
    "\n",
    "sentence = \"Python is easy and Python is fun!\"\n",
    "\n",
    "# Find the last occurrence of \"Python\"\n",
    "index = sentence.rfind(\"Python\")\n",
    "print(index)  # Output: 20\n",
    "\n",
    "# Find the last occurrence of \"Python\" between index 0 and 15\n",
    "index2 = sentence.rfind(\"Python\", 0, 15)\n",
    "print(index2)  # Output: -1 (not found in the specified range)\n"
   ]
  },
  {
   "cell_type": "markdown",
   "id": "1cce5998-e833-4a38-bb07-f63d5ef9b233",
   "metadata": {},
   "source": [
    "### Python String rjust() Method\n",
    "\n",
    "The rjust() method in Python is used to right-justify a string within a specified width by padding it with a specified character (or whitespace) on the left. This method is particularly useful when you want to align strings to the right within a fixed-width field.\n"
   ]
  },
  {
   "cell_type": "code",
   "execution_count": 77,
   "id": "83998d27-cfee-4a05-97a7-1f55feec84a2",
   "metadata": {},
   "outputs": [
    {
     "name": "stdout",
     "output_type": "stream",
     "text": [
      "Original String: Hello\n",
      "Right-Justified String: *****Hello\n"
     ]
    }
   ],
   "source": [
    "original_string = \"Hello\"\n",
    "width = 10\n",
    "\n",
    "# Right-justify the string within a width of 10, padding with '*'\n",
    "justified_string = original_string.rjust(width, '*')\n",
    "\n",
    "print(\"Original String:\", original_string)\n",
    "print(\"Right-Justified String:\", justified_string)\n"
   ]
  },
  {
   "cell_type": "markdown",
   "id": "f80f7192-7668-4e42-98b7-5f53fc7a321f",
   "metadata": {},
   "source": [
    "### Python String split() Method\n",
    "The split() method splits a string into a list.\n",
    "Syntax: string.split(separator, maxsplit)"
   ]
  },
  {
   "cell_type": "code",
   "execution_count": 79,
   "id": "0f2121ed-5109-4ca4-b1bb-ffbd77fe2491",
   "metadata": {},
   "outputs": [
    {
     "name": "stdout",
     "output_type": "stream",
     "text": [
      "['hello', 'my name is Ramya', 'I am 50 years old']\n"
     ]
    }
   ],
   "source": [
    "a = \"hello, my name is Ramya, I am 50 years old\"\n",
    "\n",
    "x = a.split(\", \")\n",
    "\n",
    "print(x)"
   ]
  },
  {
   "cell_type": "markdown",
   "id": "6ab890d4-fff8-4b7f-b05d-1e480e0cbf6e",
   "metadata": {},
   "source": [
    "### Methods to trim leading and trailing characters from a string"
   ]
  },
  {
   "cell_type": "markdown",
   "id": "42b3fcbe-11ab-4221-aca9-a3ec7ec7a006",
   "metadata": {},
   "source": [
    "#### The method for the same are\n",
    "#### strip()\n",
    "#### rstrip()\n",
    "#### lstrip()"
   ]
  },
  {
   "cell_type": "markdown",
   "id": "44cc111f-e572-4b9f-a038-b2ee95f69f0d",
   "metadata": {},
   "source": [
    "#### using strip() method to trim "
   ]
  },
  {
   "cell_type": "code",
   "execution_count": 29,
   "id": "cab90bea-cdd2-4226-ba6c-3d67774e6ccc",
   "metadata": {},
   "outputs": [
    {
     "name": "stdout",
     "output_type": "stream",
     "text": [
      "The Original String is :          A String  having  leading and trailing   spaces             *\n",
      "Trimmed string is :  A String  having  leading and trailing   spaces *\n"
     ]
    }
   ],
   "source": [
    "\n",
    "# leading and trailing spaces form a string\n",
    "\n",
    "# Define a string having leading and trailing spaces\n",
    "String_Var = \"         A String  having  leading and trailing   spaces            \"\n",
    "\n",
    "# Print the content of the string \n",
    "print(\"The Original String is :\" ,String_Var ,\"*\")\n",
    "\n",
    "# Remove the leading and trailing spaces from the string \n",
    "# using strip() method\n",
    "# Added a '*' at the end to show trimming of trailing spaces\n",
    "print(\"Trimmed string is : \" ,String_Var.strip(),\"*\")\n",
    "\n",
    "# Note : Only leading and trailing spaces are removed , \n",
    "# No chnage to embedded spaces in the string"
   ]
  },
  {
   "cell_type": "markdown",
   "id": "aa8bc187-7887-48b6-9c88-a40e00b5c999",
   "metadata": {},
   "source": [
    "#### using lstrip() method to trim the leading spaces form a string"
   ]
  },
  {
   "cell_type": "code",
   "execution_count": 30,
   "id": "e3ab3949-53dc-4b1b-af8f-8f592d3f8c56",
   "metadata": {},
   "outputs": [
    {
     "name": "stdout",
     "output_type": "stream",
     "text": [
      "The Original String is :          A String  having  leading and trailing   spaces     \n",
      "Leading Spaces Trimmed string is :  A String  having  leading and trailing   spaces     \n"
     ]
    }
   ],
   "source": [
    "# Define a string having leading spaces\n",
    "String_Var = \"         A String  having  leading and trailing   spaces     \"\n",
    "\n",
    "# Print the content of the string \n",
    "print(\"The Original String is :\" ,String_Var )\n",
    "\n",
    "# Remove the leading spaces from the string using \n",
    "# lstrip() method\n",
    "print(\"Leading Spaces Trimmed string is : \" ,\n",
    "      String_Var.lstrip())"
   ]
  },
  {
   "cell_type": "markdown",
   "id": "5020e512-b517-494a-af78-01de74b60ecd",
   "metadata": {},
   "source": [
    "### Counting the number of occurences of a Sub String with in a String\n"
   ]
  },
  {
   "cell_type": "markdown",
   "id": "63281af8-2489-4005-b4cb-eacbc5f8aca2",
   "metadata": {},
   "source": [
    "##### Syntax of count() method is : Target_String.count(substring,start,end)\n",
    "##### Target_String : is the String from which the substring occurences to be counted\n",
    "##### substring : the substring to be searched and occurences counted\n",
    "##### start : Start position in Target String from where the substring to be searched\n",
    "##### start : end position in Target String at which the substring searched to be stopped\n",
    "##### The count() method returns : The number of instances the substring is found within the Target string\n",
    "\n"
   ]
  },
  {
   "cell_type": "code",
   "execution_count": 42,
   "id": "c7f9c687-b0a9-4998-b954-9aeb0ba80c37",
   "metadata": {},
   "outputs": [
    {
     "name": "stdout",
     "output_type": "stream",
     "text": [
      "Total occurrences of 'sample' in the string: 3\n",
      "Occurrences of 'sample' within the range (10 to 40) in the string: 2\n"
     ]
    }
   ],
   "source": [
    "# Sample string\n",
    "main_string = \"This is a sample string. The sample string contains some sample text.\"\n",
    "\n",
    "# Substring to count\n",
    "substring = \"sample\"\n",
    "\n",
    "# Count the occurrences of the substring in the entire string\n",
    "total_occurrences = main_string.count(substring)\n",
    "\n",
    "# Count the occurrences of the substring within a specific range (10 to 40) in the string\n",
    "occurrences_in_range = main_string.count(substring, 10, 40)\n",
    "\n",
    "# Print the results\n",
    "print(\"Total occurrences of '{}' in the string: {}\".format(substring, total_occurrences))\n",
    "print(\"Occurrences of '{}' within the range (10 to 40) in the string: {}\".format(substring, occurrences_in_range))\n"
   ]
  },
  {
   "cell_type": "markdown",
   "id": "13ab84ad-a808-4cf0-8350-667120aeb3e3",
   "metadata": {},
   "source": [
    "#### Python String count() Method"
   ]
  },
  {
   "cell_type": "code",
   "execution_count": 49,
   "id": "080bb130-f5f1-4e31-bac2-466b1b333673",
   "metadata": {},
   "outputs": [
    {
     "name": "stdout",
     "output_type": "stream",
     "text": [
      "2\n"
     ]
    }
   ],
   "source": [
    "a = \"I love mango, mango is my favorite fruit\"\n",
    "\n",
    "x = a.count(\"mango\")\n",
    "\n",
    "print(x)"
   ]
  },
  {
   "cell_type": "markdown",
   "id": "34708712-8a7c-432c-b2e4-3e88bb37c127",
   "metadata": {},
   "source": [
    "### Python String splitlines() Method\n",
    "The splitlines() method splits a string into a list. The splitting is done at line breaks.\n",
    "Syntax: string.splitlines(keeplinebreaks)\r\n",
    "\r\n"
   ]
  },
  {
   "cell_type": "code",
   "execution_count": 81,
   "id": "951eff49-58fe-4969-ad2c-616f6205eef9",
   "metadata": {},
   "outputs": [
    {
     "name": "stdout",
     "output_type": "stream",
     "text": [
      "['Thank you for the Ramya\\n', 'Welcome to the SHU']\n"
     ]
    }
   ],
   "source": [
    "a = \"Thank you for the Ramya\\nWelcome to the SHU\"\n",
    "\n",
    "x = a.splitlines(True)\n",
    "\n",
    "print(x)"
   ]
  },
  {
   "cell_type": "markdown",
   "id": "4a57745f-a9f2-4b61-8c30-e199a6248fa4",
   "metadata": {},
   "source": [
    "### Python String startswith() Method\n",
    "The startswith() method returns True if the string starts with the specified value, otherwise False.\n",
    "Syntax: string.startswith(value, start, end)"
   ]
  },
  {
   "cell_type": "code",
   "execution_count": 82,
   "id": "1feadb23-9994-4c8f-b770-e739d559c08c",
   "metadata": {},
   "outputs": [
    {
     "name": "stdout",
     "output_type": "stream",
     "text": [
      "False\n"
     ]
    }
   ],
   "source": [
    "txt = \"Hello, welcome to Sacredheart University.\"\n",
    "\n",
    "x = txt.startswith(\"Shu\", 7, 20)\n",
    "\n",
    "print(x)"
   ]
  },
  {
   "cell_type": "markdown",
   "id": "a29459a9-0aad-4133-9b26-74fa063de377",
   "metadata": {},
   "source": [
    "### Python String swapcase() Method\n",
    "The swapcase() method returns a string where all the upper case letters are lower case and vice versa.\n",
    "Syntax: string.swapcase()"
   ]
  },
  {
   "cell_type": "code",
   "execution_count": 83,
   "id": "8604f8dc-88ce-4ac0-aeb7-da1ca3877d92",
   "metadata": {},
   "outputs": [
    {
     "name": "stdout",
     "output_type": "stream",
     "text": [
      "hELLO mY nAME iS ramya\n"
     ]
    }
   ],
   "source": [
    "b = \"Hello My Name Is RAMYA\"\n",
    "\n",
    "x = b.swapcase()\n",
    "\n",
    "print(x)"
   ]
  },
  {
   "cell_type": "markdown",
   "id": "716b9d03-e466-4e62-8591-e110ecad8129",
   "metadata": {},
   "source": [
    "### Python String title() Method\n",
    "The title() method returns a string where the first character in every word is upper case. Like a header, or a title.\n",
    "\n",
    "If the word contains a number or a symbol, the first letter after that will be converted to upper case.\n",
    "\n",
    "Syntax: string.title()"
   ]
  },
  {
   "cell_type": "code",
   "execution_count": 84,
   "id": "92f8476e-874c-4c97-8e02-239af60b83ed",
   "metadata": {},
   "outputs": [
    {
     "name": "stdout",
     "output_type": "stream",
     "text": [
      "Welcome To Sacredheart University\n"
     ]
    }
   ],
   "source": [
    "a = \"Welcome to SacredHeart University\"\n",
    "\n",
    "x = a.title()\n",
    "\n",
    "print(x)"
   ]
  },
  {
   "cell_type": "markdown",
   "id": "82d894a2-e572-4e4b-99ff-3def16b63095",
   "metadata": {},
   "source": [
    "### Python String zfill() Method\n",
    "\n",
    "The zfill() method in Python is a string method that pads a string with zeros (0) on the left side until the string reaches the specified width. This method is particularly useful when you want to ensure that a string has a minimum length by adding leading zeros."
   ]
  },
  {
   "cell_type": "code",
   "execution_count": 85,
   "id": "06db118c-a46f-4225-9898-f25137c8fd0e",
   "metadata": {},
   "outputs": [
    {
     "name": "stdout",
     "output_type": "stream",
     "text": [
      "Original string: 42\n",
      "Padded string: 00042\n"
     ]
    }
   ],
   "source": [
    "original_string = \"42\"\n",
    "padded_string = original_string.zfill(5)\n",
    "\n",
    "print(\"Original string:\", original_string)\n",
    "print(\"Padded string:\", padded_string)\n"
   ]
  },
  {
   "cell_type": "markdown",
   "id": "497a99fa-0851-4b2f-b753-67d0d7f03a20",
   "metadata": {},
   "source": [
    "# Python RegEx"
   ]
  },
  {
   "cell_type": "markdown",
   "id": "73b12c3a-a9bc-4555-90a5-eb7f92e1ed49",
   "metadata": {},
   "source": [
    "A regular expression is a special text string for describing a search pattern.\n",
    "\n",
    "Regular Expression is also called RegEx.\n",
    "\n",
    "Regular expressions are used in many situation in computer programming. Majorly in search, pattern matching, parsing, filtering of results and so on\n",
    "\n",
    "#### Python has a built-in package called re, which can be used to work with Regular Expressions.\n",
    "#### import re\n"
   ]
  },
  {
   "cell_type": "code",
   "execution_count": 91,
   "id": "6307b43b-86fd-48fe-95be-1dd48fa642c9",
   "metadata": {},
   "outputs": [
    {
     "name": "stdout",
     "output_type": "stream",
     "text": [
      "Requirement already satisfied: regex in c:\\users\\shakkerar\\appdata\\local\\programs\\python\\python312\\lib\\site-packages (2023.12.25)\n"
     ]
    }
   ],
   "source": [
    "!pip install regex"
   ]
  },
  {
   "cell_type": "code",
   "execution_count": 94,
   "id": "5cfe4c60-2433-4f47-9249-6bff2324e6c0",
   "metadata": {},
   "outputs": [
    {
     "name": "stdout",
     "output_type": "stream",
     "text": [
      "Matched words: ['Hello', 'this', 'is', 'a', 'sample', 'text', 'with', 'some', 'words']\n"
     ]
    }
   ],
   "source": [
    "import regex\n",
    "\n",
    "# Define a regular expression pattern\n",
    "pattern = r'\\b(\\w+)\\b'\n",
    "\n",
    "# Sample text\n",
    "text = \"Hello, this is a sample text with some words.\"\n",
    "\n",
    "# Use regex.findall to find all words in the text\n",
    "matches = regex.findall(pattern, text)\n",
    "\n",
    "# Print the matched words\n",
    "print(\"Matched words:\", matches)\n",
    "\n"
   ]
  },
  {
   "cell_type": "markdown",
   "id": "f566ea8b-c837-4e12-8e9f-796de0c780f0",
   "metadata": {},
   "source": [
    "## RegEx Functions"
   ]
  },
  {
   "cell_type": "markdown",
   "id": "12122728-396d-4bba-9259-3fe58579a57e",
   "metadata": {},
   "source": [
    "### The findall() Function\n",
    "\n",
    "The findall() function returns a list containing all matches."
   ]
  },
  {
   "cell_type": "code",
   "execution_count": 124,
   "id": "66cea6f5-f183-4934-b2dc-ad8339876098",
   "metadata": {},
   "outputs": [
    {
     "data": {
      "text/plain": [
       "['foot', 'fell', 'fastest']"
      ]
     },
     "execution_count": 124,
     "metadata": {},
     "output_type": "execute_result"
    }
   ],
   "source": [
    "re.findall(r'\\bf[a-z]*', 'which foot or hand fell fastest')"
   ]
  },
  {
   "cell_type": "code",
   "execution_count": 125,
   "id": "df98fbc0-13ce-43b7-9aaa-e63c3b73a0d5",
   "metadata": {},
   "outputs": [
    {
     "data": {
      "text/plain": [
       "[('width', '20'), ('height', '10')]"
      ]
     },
     "execution_count": 125,
     "metadata": {},
     "output_type": "execute_result"
    }
   ],
   "source": [
    "re.findall(r'(\\w+)=(\\d+)', 'set width=20 and height=10')"
   ]
  },
  {
   "cell_type": "code",
   "execution_count": 96,
   "id": "dc23fc82-5d5b-4e05-900f-f015040d7c3f",
   "metadata": {},
   "outputs": [
    {
     "name": "stdout",
     "output_type": "stream",
     "text": [
      "['ai', 'ai']\n"
     ]
    }
   ],
   "source": [
    "import re\n",
    "txt = \"The rain in Spain\"\n",
    "x = re.findall(\"ai\", txt)\n",
    "print(x)"
   ]
  },
  {
   "cell_type": "code",
   "execution_count": 98,
   "id": "59cdacc6-41a8-480a-be32-ac315ab8434c",
   "metadata": {},
   "outputs": [
    {
     "name": "stdout",
     "output_type": "stream",
     "text": [
      "[]\n"
     ]
    }
   ],
   "source": [
    "import re\n",
    "\n",
    "txt = \"The rain in Spain\"\n",
    "x = re.findall(\"Portugal\", txt)\n",
    "print(x)\n",
    "#If no matches are found, an empty list is returned:"
   ]
  },
  {
   "cell_type": "markdown",
   "id": "000eca46-15ef-4e95-8603-dc9274505d28",
   "metadata": {},
   "source": [
    "### The search() Function\n",
    "The search() function searches the string for a match, and returns a Match object if there is a match.\r\n",
    "\r\n",
    "If there is more than one match, only the first occurrence of the match will be returne\n",
    "\n",
    "Syntax: re.search(pattern, string, flags=0)\n",
    "\n",
    "\n",
    "pattern: The regular expression pattern to search for\n",
    "\n",
    "\r\n",
    "string: The input string where the search will be performe\n",
    "\n",
    ".\r\n",
    "flags: Optional flags that modify the behavior of the sear\n",
    "\n",
    "\n",
    ". They are optional and often not needed for basic searchs.d:"
   ]
  },
  {
   "cell_type": "code",
   "execution_count": 138,
   "id": "598e3826-0beb-423f-ad22-778ffbb0dad1",
   "metadata": {},
   "outputs": [
    {
     "name": "stdout",
     "output_type": "stream",
     "text": [
      "pattern found inside the string\n"
     ]
    },
    {
     "name": "stderr",
     "output_type": "stream",
     "text": [
      "<>:6: SyntaxWarning: invalid escape sequence '\\A'\n",
      "<>:6: SyntaxWarning: invalid escape sequence '\\A'\n",
      "C:\\Users\\shakkerar\\AppData\\Local\\Temp\\ipykernel_15172\\873262552.py:6: SyntaxWarning: invalid escape sequence '\\A'\n",
      "  match = re.search('\\APython', string)\n"
     ]
    }
   ],
   "source": [
    "\n",
    "import re\n",
    "\n",
    "string = \"Python is fun\"\n",
    "\n",
    "# check if 'Python' is at the beginning\n",
    "match = re.search('\\APython', string)\n",
    "\n",
    "if match:\n",
    "  print(\"pattern found inside the string\")\n",
    "else:\n",
    "  print(\"pattern not found\") "
   ]
  },
  {
   "cell_type": "code",
   "execution_count": 130,
   "id": "d54039fa-65e5-44c9-b5fb-c6221e3b1e32",
   "metadata": {},
   "outputs": [
    {
     "data": {
      "text/plain": [
       "<re.Match object; span=(0, 1), match='d'>"
      ]
     },
     "execution_count": 130,
     "metadata": {},
     "output_type": "execute_result"
    }
   ],
   "source": [
    "pattern = re.compile(\"d\")\n",
    "pattern.search(\"dog\")"
   ]
  },
  {
   "cell_type": "code",
   "execution_count": 99,
   "id": "88534331-5121-4a63-b6d7-77a70c021919",
   "metadata": {},
   "outputs": [
    {
     "name": "stdout",
     "output_type": "stream",
     "text": [
      "Found: fox\n",
      "Starting position: 16\n",
      "Ending position: 19\n"
     ]
    }
   ],
   "source": [
    "import re\n",
    "\n",
    "text = \"The quick brown fox jumps over the lazy dog.\"\n",
    "\n",
    "# Search for the word \"fox\" in the text\n",
    "match = re.search(r'fox', text)\n",
    "\n",
    "if match:\n",
    "    print(\"Found:\", match.group())\n",
    "    print(\"Starting position:\", match.start())\n",
    "    print(\"Ending position:\", match.end())\n",
    "else:\n",
    "    print(\"Pattern not found.\")\n"
   ]
  },
  {
   "cell_type": "markdown",
   "id": "97f21dc6-0fb3-4343-82ed-d0c29a4d38c9",
   "metadata": {},
   "source": [
    "### The split() Function\n",
    "The split() function returns a list where the string has been split at each match\n",
    " \n",
    "Split string by the occurrences of pattern. If capturing parentheses are used in pattern, then the text of all groups in the pattern are also returned as part of the resulting list. If maxsplit is nonzero, at most maxsplit splits occur, and the remainder of the string is returned as the final element of the list."
   ]
  },
  {
   "cell_type": "code",
   "execution_count": 135,
   "id": "3a02a7a1-9735-4f03-b6c6-d3daced16d2f",
   "metadata": {},
   "outputs": [
    {
     "name": "stdout",
     "output_type": "stream",
     "text": [
      "['Twelve:', ' Eighty nine:', '.']\n"
     ]
    },
    {
     "name": "stderr",
     "output_type": "stream",
     "text": [
      "<>:4: SyntaxWarning: invalid escape sequence '\\d'\n",
      "<>:4: SyntaxWarning: invalid escape sequence '\\d'\n",
      "C:\\Users\\shakkerar\\AppData\\Local\\Temp\\ipykernel_15172\\531091968.py:4: SyntaxWarning: invalid escape sequence '\\d'\n",
      "  pattern = '\\d+'\n"
     ]
    }
   ],
   "source": [
    "import re\n",
    "\n",
    "string = 'Twelve:12 Eighty nine:89.'\n",
    "pattern = '\\d+'\n",
    "\n",
    "result = re.split(pattern, string) \n",
    "print(result)\n"
   ]
  },
  {
   "cell_type": "code",
   "execution_count": 120,
   "id": "ce9ba0f6-55cc-41e9-9155-c3e939d2c17f",
   "metadata": {},
   "outputs": [
    {
     "data": {
      "text/plain": [
       "['Words', 'words', 'words', '']"
      ]
     },
     "execution_count": 120,
     "metadata": {},
     "output_type": "execute_result"
    }
   ],
   "source": [
    "re.split(r'\\W+', 'Words, words, words.')"
   ]
  },
  {
   "cell_type": "code",
   "execution_count": 121,
   "id": "b6d9d6a8-fbd4-4fb2-9103-290854f85e19",
   "metadata": {},
   "outputs": [
    {
     "data": {
      "text/plain": [
       "['Words', ', ', 'words', ', ', 'words', '.', '']"
      ]
     },
     "execution_count": 121,
     "metadata": {},
     "output_type": "execute_result"
    }
   ],
   "source": [
    "re.split(r'(\\W+)', 'Words, words, words.')"
   ]
  },
  {
   "cell_type": "code",
   "execution_count": 122,
   "id": "3e170626-9290-49f6-9063-ac7bbcbd63f8",
   "metadata": {},
   "outputs": [
    {
     "data": {
      "text/plain": [
       "['Words', 'words, words.']"
      ]
     },
     "execution_count": 122,
     "metadata": {},
     "output_type": "execute_result"
    }
   ],
   "source": [
    "re.split(r'\\W+', 'Words, words, words.', 1)"
   ]
  },
  {
   "cell_type": "code",
   "execution_count": 119,
   "id": "f7d8141d-1de6-4c91-abaa-31fb0368e179",
   "metadata": {},
   "outputs": [
    {
     "data": {
      "text/plain": [
       "['0', '3', '9']"
      ]
     },
     "execution_count": 119,
     "metadata": {},
     "output_type": "execute_result"
    }
   ],
   "source": [
    "re.split('[a-f]+', '0a3B9', flags=re.IGNORECASE)"
   ]
  },
  {
   "cell_type": "code",
   "execution_count": 101,
   "id": "24fe0e1c-c173-4b87-b411-d6c5909fd878",
   "metadata": {},
   "outputs": [
    {
     "name": "stdout",
     "output_type": "stream",
     "text": [
      "Original string: apple,banana,orange,grape\n",
      "Result after split: ['apple', 'banana', 'orange', 'grape']\n"
     ]
    }
   ],
   "source": [
    "import re\n",
    "\n",
    "text = \"apple,banana,orange,grape\"\n",
    "\n",
    "# Split the string using a comma as the delimiter\n",
    "result = re.split(r',', text)\n",
    "\n",
    "print(\"Original string:\", text)\n",
    "print(\"Result after split:\", result)\n"
   ]
  },
  {
   "cell_type": "code",
   "execution_count": 102,
   "id": "0ebd90c8-e433-43c5-a634-35965e83d82c",
   "metadata": {},
   "outputs": [
    {
     "name": "stdout",
     "output_type": "stream",
     "text": [
      "Original string: apple, banana orange grape\n",
      "Result after split: ['apple', 'banana', 'orange', 'grape']\n"
     ]
    }
   ],
   "source": [
    "import re\n",
    "\n",
    "text = \"apple, banana orange grape\"\n",
    "\n",
    "# Split the string using commas or spaces as delimiters\n",
    "result = re.split(r'[,\\s]+', text)\n",
    "\n",
    "print(\"Original string:\", text)\n",
    "print(\"Result after split:\", result)\n"
   ]
  },
  {
   "cell_type": "markdown",
   "id": "3ea5375b-8ca9-4525-b303-71f41bde69e9",
   "metadata": {},
   "source": [
    "#### W can control the number of occurrences by specifying the maxsplit parameter"
   ]
  },
  {
   "cell_type": "code",
   "execution_count": 103,
   "id": "7b46b063-6392-44d8-8371-10fc1e61ac38",
   "metadata": {},
   "outputs": [
    {
     "name": "stdout",
     "output_type": "stream",
     "text": [
      "['The', 'rain in Spain']\n"
     ]
    },
    {
     "name": "stderr",
     "output_type": "stream",
     "text": [
      "<>:4: SyntaxWarning: invalid escape sequence '\\s'\n",
      "<>:4: SyntaxWarning: invalid escape sequence '\\s'\n",
      "C:\\Users\\shakkerar\\AppData\\Local\\Temp\\ipykernel_15172\\2050144357.py:4: SyntaxWarning: invalid escape sequence '\\s'\n",
      "  x = re.split(\"\\s\", txt, 1)\n"
     ]
    }
   ],
   "source": [
    "import re\n",
    "\n",
    "txt = \"The rain in Spain\"\n",
    "x = re.split(\"\\s\", txt, 1)\n",
    "print(x)"
   ]
  },
  {
   "cell_type": "markdown",
   "id": "654137bf-b067-4dd9-bce5-6cb343627373",
   "metadata": {},
   "source": [
    "### The sub() Function\n",
    "The sub() function replaces the matches with the text of your choice:"
   ]
  },
  {
   "cell_type": "code",
   "execution_count": 136,
   "id": "25155145-503c-45ee-9a25-cd0f1f399c8c",
   "metadata": {},
   "outputs": [
    {
     "name": "stdout",
     "output_type": "stream",
     "text": [
      "abc12de23f456\n"
     ]
    },
    {
     "name": "stderr",
     "output_type": "stream",
     "text": [
      "<>:9: SyntaxWarning: invalid escape sequence '\\s'\n",
      "<>:9: SyntaxWarning: invalid escape sequence '\\s'\n",
      "C:\\Users\\shakkerar\\AppData\\Local\\Temp\\ipykernel_15172\\600897021.py:9: SyntaxWarning: invalid escape sequence '\\s'\n",
      "  pattern = '\\s+'\n"
     ]
    }
   ],
   "source": [
    "# Program to remove all whitespaces\n",
    "import re\n",
    "\n",
    "# multiline string\n",
    "string = 'abc 12\\\n",
    "de 23 \\n f45 6'\n",
    "\n",
    "# matches all whitespace characters\n",
    "pattern = '\\s+'\n",
    "\n",
    "# empty string\n",
    "replace = ''\n",
    "\n",
    "new_string = re.sub(pattern, replace, string) \n",
    "print(new_string)\n"
   ]
  },
  {
   "cell_type": "code",
   "execution_count": 104,
   "id": "42fb56db-bebd-4b71-b86b-f10ba1bc4bb1",
   "metadata": {},
   "outputs": [
    {
     "name": "stdout",
     "output_type": "stream",
     "text": [
      "The9rain9in9Spain\n"
     ]
    },
    {
     "name": "stderr",
     "output_type": "stream",
     "text": [
      "<>:4: SyntaxWarning: invalid escape sequence '\\s'\n",
      "<>:4: SyntaxWarning: invalid escape sequence '\\s'\n",
      "C:\\Users\\shakkerar\\AppData\\Local\\Temp\\ipykernel_15172\\1314579611.py:4: SyntaxWarning: invalid escape sequence '\\s'\n",
      "  x = re.sub(\"\\s\", \"9\", txt)\n"
     ]
    }
   ],
   "source": [
    "import re\n",
    "\n",
    "txt = \"The rain in Spain\"\n",
    "x = re.sub(\"\\s\", \"9\", txt)\n",
    "print(x)"
   ]
  },
  {
   "cell_type": "code",
   "execution_count": 105,
   "id": "4d98b824-3553-4160-9a5a-f912a1e4b7ed",
   "metadata": {},
   "outputs": [
    {
     "name": "stdout",
     "output_type": "stream",
     "text": [
      "The9rain9in Spain\n"
     ]
    },
    {
     "name": "stderr",
     "output_type": "stream",
     "text": [
      "<>:5: SyntaxWarning: invalid escape sequence '\\s'\n",
      "<>:5: SyntaxWarning: invalid escape sequence '\\s'\n",
      "C:\\Users\\shakkerar\\AppData\\Local\\Temp\\ipykernel_15172\\548556988.py:5: SyntaxWarning: invalid escape sequence '\\s'\n",
      "  x = re.sub(\"\\s\", \"9\", txt, 2)\n"
     ]
    }
   ],
   "source": [
    "# We can control the number of replacements by specifying the count parameter:\n",
    "import re\n",
    "\n",
    "txt = \"The rain in Spain\"\n",
    "x = re.sub(\"\\s\", \"9\", txt, 2)\n",
    "print(x)"
   ]
  },
  {
   "cell_type": "code",
   "execution_count": 106,
   "id": "18995cd1-e36a-40ae-804e-a5e1948053dd",
   "metadata": {},
   "outputs": [
    {
     "name": "stdout",
     "output_type": "stream",
     "text": [
      "Original text: The quick brown fox jumps over the lazy dog.\n",
      "Text after substitution: The lazy brown fox jumps over the quick dog.\n"
     ]
    }
   ],
   "source": [
    "import re\n",
    "\n",
    "text = \"The quick brown fox jumps over the lazy dog.\"\n",
    "\n",
    "# Swap the positions of \"quick\" and \"lazy\" using capture groups\n",
    "new_text = re.sub(r'(\\bquick\\b)(.*)(\\blazy\\b)', r'\\3\\2\\1', text)\n",
    "\n",
    "print(\"Original text:\", text)\n",
    "print(\"Text after substitution:\", new_text)\n"
   ]
  },
  {
   "cell_type": "code",
   "execution_count": 107,
   "id": "51f91e28-a827-427c-8ea9-1c447b41a46d",
   "metadata": {},
   "outputs": [
    {
     "name": "stdout",
     "output_type": "stream",
     "text": [
      "Original text: The quick brown fox jumps over the lazy dog.\n",
      "Text after substitution: The quick brown cat jumps over the lazy dog.\n"
     ]
    }
   ],
   "source": [
    "import re\n",
    "\n",
    "text = \"The quick brown fox jumps over the lazy dog.\"\n",
    "\n",
    "# Replace \"fox\" with \"cat\" in the text\n",
    "new_text = re.sub(r'fox', 'cat', text)\n",
    "\n",
    "print(\"Original text:\", text)\n",
    "print(\"Text after substitution:\", new_text)\n"
   ]
  },
  {
   "cell_type": "code",
   "execution_count": 108,
   "id": "72b4efc1-158c-456f-8370-cccea42f1005",
   "metadata": {},
   "outputs": [
    {
     "name": "stdout",
     "output_type": "stream",
     "text": [
      "Original text: The quick brown fox jumps over the lazy dog.\n",
      "Text after substitution: The lazy brown fox jumps over the quick dog.\n"
     ]
    }
   ],
   "source": [
    "import re\n",
    "\n",
    "text = \"The quick brown fox jumps over the lazy dog.\"\n",
    "\n",
    "# Swap the positions of \"quick\" and \"lazy\" using capture groups\n",
    "new_text = re.sub(r'(\\bquick\\b)(.*)(\\blazy\\b)', r'\\3\\2\\1', text)\n",
    "\n",
    "print(\"Original text:\", text)\n",
    "print(\"Text after substitution:\", new_text)\n"
   ]
  },
  {
   "cell_type": "markdown",
   "id": "0fb1d80c-3848-498a-a941-5203fc05e611",
   "metadata": {},
   "source": [
    "## re.subn()\n",
    "\n",
    "The re.subn() is similar to re.sub() except it returns a tuple of 2 items containing the new string and the number of substitutions made."
   ]
  },
  {
   "cell_type": "code",
   "execution_count": 137,
   "id": "50192416-1e65-4a22-80ad-e29eac16b1df",
   "metadata": {},
   "outputs": [
    {
     "name": "stdout",
     "output_type": "stream",
     "text": [
      "('abc12de23f456', 4)\n"
     ]
    },
    {
     "name": "stderr",
     "output_type": "stream",
     "text": [
      "<>:9: SyntaxWarning: invalid escape sequence '\\s'\n",
      "<>:9: SyntaxWarning: invalid escape sequence '\\s'\n",
      "C:\\Users\\shakkerar\\AppData\\Local\\Temp\\ipykernel_15172\\2859187810.py:9: SyntaxWarning: invalid escape sequence '\\s'\n",
      "  pattern = '\\s+'\n"
     ]
    }
   ],
   "source": [
    "\n",
    "# Program to remove all whitespaces\n",
    "import re\n",
    "\n",
    "# multiline string\n",
    "string = 'abc 12\\\n",
    "de 23 \\n f45 6'\n",
    "\n",
    "# matches all whitespace characters\n",
    "pattern = '\\s+'\n",
    "\n",
    "# empty string\n",
    "replace = ''\n",
    "\n",
    "new_string = re.subn(pattern, replace, string) \n",
    "print(new_string)"
   ]
  },
  {
   "cell_type": "markdown",
   "id": "91357634-f25c-4574-a702-543b4d5ae677",
   "metadata": {},
   "source": [
    "### Match Object\n",
    "A Match Object is an object containing information about the search and the result."
   ]
  },
  {
   "cell_type": "code",
   "execution_count": 139,
   "id": "8d05573c-c797-48d5-acd7-c1c7b65f29c9",
   "metadata": {},
   "outputs": [
    {
     "name": "stdout",
     "output_type": "stream",
     "text": [
      "801 35\n"
     ]
    },
    {
     "name": "stderr",
     "output_type": "stream",
     "text": [
      "<>:6: SyntaxWarning: invalid escape sequence '\\d'\n",
      "<>:6: SyntaxWarning: invalid escape sequence '\\d'\n",
      "C:\\Users\\shakkerar\\AppData\\Local\\Temp\\ipykernel_15172\\2319455320.py:6: SyntaxWarning: invalid escape sequence '\\d'\n",
      "  pattern = '(\\d{3}) (\\d{2})'\n"
     ]
    }
   ],
   "source": [
    "\n",
    "import re\n",
    "\n",
    "string = '39801 356, 2102 1111'\n",
    "\n",
    "# Three digit number followed by space followed by two digit number\n",
    "pattern = '(\\d{3}) (\\d{2})'\n",
    "\n",
    "# match variable contains a Match object.\n",
    "match = re.search(pattern, string) \n",
    "\n",
    "if match:\n",
    "  print(match.group())\n",
    "else:\n",
    "  print(\"pattern not found\")"
   ]
  },
  {
   "cell_type": "code",
   "execution_count": 111,
   "id": "8b3c91fd-ae98-4a30-bd75-39b0e3295940",
   "metadata": {},
   "outputs": [
    {
     "name": "stdout",
     "output_type": "stream",
     "text": [
      "<re.Match object; span=(5, 7), match='ai'>\n"
     ]
    }
   ],
   "source": [
    "import re\n",
    "\n",
    "txt = \"The rain in Spain\"\n",
    "x = re.search(\"ai\", txt)\n",
    "print(x) #this will print an object"
   ]
  },
  {
   "cell_type": "markdown",
   "id": "7f1aa5f0-541f-4057-8814-11548da83170",
   "metadata": {},
   "source": [
    "The Match object has properties and methods used to retrieve information about the search, and the result:\n",
    "\n",
    ".span() returns a tuple containing the start-, and end positions of the match.\n",
    ".string returns the string passed into the function\n",
    ".group() returns the part of the string where there was a match"
   ]
  },
  {
   "cell_type": "code",
   "execution_count": 114,
   "id": "8f4b5250-a1ba-4882-b5fb-c0b184d52007",
   "metadata": {},
   "outputs": [
    {
     "name": "stdout",
     "output_type": "stream",
     "text": [
      "The rain in Spain\n"
     ]
    }
   ],
   "source": [
    "import re\n",
    "b = \"The rain in Spain\"\n",
    "x = re.search(r\"\\bS\\w+\", b)\n",
    "print(x.string)"
   ]
  },
  {
   "cell_type": "code",
   "execution_count": 116,
   "id": "78322025-8dd0-4908-b3c9-b434d03b1c6e",
   "metadata": {},
   "outputs": [
    {
     "data": {
      "text/plain": [
       "'def'"
      ]
     },
     "execution_count": 116,
     "metadata": {},
     "output_type": "execute_result"
    }
   ],
   "source": [
    "import re\n",
    "m = re.search('(?<=abc)def', 'abcdef')\n",
    "m.group(0)"
   ]
  },
  {
   "cell_type": "markdown",
   "id": "604f7e1a-fca1-435f-89a1-2ae0bd7c2be3",
   "metadata": {},
   "source": [
    "### re.escape(pattern)\n",
    "\n",
    "\n",
    "re.escape() is used to escape special characters in a string, making it safe to be used as a pattern in regular expressions. It ensures that any characters with special meanings in regular expressions are treated as literal characters."
   ]
  },
  {
   "cell_type": "code",
   "execution_count": 141,
   "id": "651c76b7-45fb-4f59-8861-f0672c8d28d7",
   "metadata": {},
   "outputs": [
    {
     "name": "stdout",
     "output_type": "stream",
     "text": [
      "This\\ is\\ Awesome\\ even\\ 1\\ AM\n",
      "I\\ Asked\\ what\\ is\\ this\\ \\[a\\-9\\],\\ he\\ said\\ \\\t\\ \\^WoW\n"
     ]
    }
   ],
   "source": [
    "import re \n",
    "print(re.escape(\"This is Awesome even 1 AM\")) \n",
    "print(re.escape(\"I Asked what is this [a-9], he said \\t ^WoW\")) "
   ]
  },
  {
   "cell_type": "code",
   "execution_count": 126,
   "id": "8cbe1748-3293-4402-8f7a-35ce4dbb68c1",
   "metadata": {},
   "outputs": [
    {
     "name": "stdout",
     "output_type": "stream",
     "text": [
      "https://www\\.python\\.org\n"
     ]
    }
   ],
   "source": [
    "print(re.escape('https://www.python.org'))"
   ]
  },
  {
   "cell_type": "code",
   "execution_count": 129,
   "id": "5506ddc1-9d49-47ec-a5ad-d28fcc2752f7",
   "metadata": {},
   "outputs": [
    {
     "name": "stdout",
     "output_type": "stream",
     "text": [
      "/|\\-|\\+|\\*\\*|\\*\n"
     ]
    }
   ],
   "source": [
    "operators = ['+', '-', '*', '/', '**']\n",
    "print('|'.join(map(re.escape, sorted(operators, reverse=True))))"
   ]
  },
  {
   "cell_type": "markdown",
   "id": "cc9e4387-14a4-4fcc-8867-40841bfe8ec9",
   "metadata": {},
   "source": [
    "### findall()"
   ]
  },
  {
   "cell_type": "code",
   "execution_count": 134,
   "id": "0d9c71ac-1a8e-4342-a431-07c885a8b31a",
   "metadata": {},
   "outputs": [
    {
     "name": "stdout",
     "output_type": "stream",
     "text": [
      "['12', '89', '34']\n"
     ]
    },
    {
     "name": "stderr",
     "output_type": "stream",
     "text": [
      "<>:6: SyntaxWarning: invalid escape sequence '\\d'\n",
      "<>:6: SyntaxWarning: invalid escape sequence '\\d'\n",
      "C:\\Users\\shakkerar\\AppData\\Local\\Temp\\ipykernel_15172\\3085200605.py:6: SyntaxWarning: invalid escape sequence '\\d'\n",
      "  pattern = '\\d+'\n"
     ]
    }
   ],
   "source": [
    "# Program to extract numbers from a string\n",
    "\n",
    "import re\n",
    "\n",
    "string = 'hello 12 hi 89. Howdy 34'\n",
    "pattern = '\\d+'\n",
    "\n",
    "result = re.findall(pattern, string) \n",
    "print(result)\n",
    "\n",
    "# Output: ['12', '89', '34']"
   ]
  },
  {
   "cell_type": "code",
   "execution_count": 132,
   "id": "e2414563-2c2b-4654-b1fc-b3239e8711c4",
   "metadata": {},
   "outputs": [
    {
     "data": {
      "text/plain": [
       "['carefully', 'quickly']"
      ]
     },
     "execution_count": 132,
     "metadata": {},
     "output_type": "execute_result"
    }
   ],
   "source": [
    "text = \"He was carefully disguised but captured quickly by police.\"\n",
    "re.findall(r\"\\w+ly\\b\", text)"
   ]
  },
  {
   "cell_type": "markdown",
   "id": "fe7f29df-781e-431a-baf3-54d02bf8adfa",
   "metadata": {},
   "source": [
    "### Finding all Adverbs and their Positions\n",
    "\n",
    "If one wants more information about all matches of a pattern than the matched text, finditer() is useful as it provides Match objects instead of strings. Continuing with the previous example, if a writer wanted to find all of the adverbs and their positions in some text, they would use finditer() in the following manner:"
   ]
  },
  {
   "cell_type": "code",
   "execution_count": 133,
   "id": "ebd8971b-4252-4fb3-94b7-5a97ab0f9e44",
   "metadata": {},
   "outputs": [
    {
     "name": "stdout",
     "output_type": "stream",
     "text": [
      "07-16: carefully\n",
      "40-47: quickly\n"
     ]
    }
   ],
   "source": [
    "text = \"He was carefully disguised but captured quickly by police.\"\n",
    "for m in re.finditer(r\"\\w+ly\\b\", text):\n",
    "    print('%02d-%02d: %s' % (m.start(), m.end(), m.group(0)))"
   ]
  }
 ],
 "metadata": {
  "kernelspec": {
   "display_name": "Python 3 (ipykernel)",
   "language": "python",
   "name": "python3"
  },
  "language_info": {
   "codemirror_mode": {
    "name": "ipython",
    "version": 3
   },
   "file_extension": ".py",
   "mimetype": "text/x-python",
   "name": "python",
   "nbconvert_exporter": "python",
   "pygments_lexer": "ipython3",
   "version": "3.12.1"
  }
 },
 "nbformat": 4,
 "nbformat_minor": 5
}
