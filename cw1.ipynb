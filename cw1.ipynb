{
 "cells": [
  {
   "cell_type": "code",
   "execution_count": 1,
   "id": "518877cc-8f06-4253-955a-dc769887dcd7",
   "metadata": {},
   "outputs": [
    {
     "name": "stdout",
     "output_type": "stream",
     "text": [
      "hello\n"
     ]
    }
   ],
   "source": [
    "a=\"hello\"\n",
    "print(a)"
   ]
  },
  {
   "cell_type": "code",
   "execution_count": 2,
   "id": "6cc8576b-b4ee-4a42-a118-9db89aac4598",
   "metadata": {},
   "outputs": [
    {
     "name": "stdout",
     "output_type": "stream",
     "text": [
      "e\n",
      "llo\n"
     ]
    }
   ],
   "source": [
    "a=\"hello, world!\"\n",
    "print(a[1])\n",
    "b=\"hello , world!\"\n",
    "print(b[2:5])"
   ]
  },
  {
   "cell_type": "code",
   "execution_count": 4,
   "id": "d4ea4426-7e4d-4835-a130-b5d4da2214d0",
   "metadata": {},
   "outputs": [
    {
     "name": "stdout",
     "output_type": "stream",
     "text": [
      "13\n",
      "HELLO, WORLD!\n",
      "hello, world!\n",
      "jello, world!\n"
     ]
    }
   ],
   "source": [
    "a=\"hello, world!\"\n",
    "print(len(a))\n",
    "print(a.upper())\n",
    "print(a.lower())\n",
    "print(a.replace(\"h\",\"j\"))"
   ]
  },
  {
   "cell_type": "code",
   "execution_count": 6,
   "id": "a0bd5386-b726-44f8-a460-ff495c4be3c0",
   "metadata": {},
   "outputs": [
    {
     "name": "stdout",
     "output_type": "stream",
     "text": [
      "Hello World\n"
     ]
    }
   ],
   "source": [
    "a=\"Hello\"\n",
    "b=\"World\"\n",
    "c= a + \" \" + b\n",
    "print(c)"
   ]
  },
  {
   "cell_type": "code",
   "execution_count": 7,
   "id": "9a854736-6fdd-4bac-8d7e-d976f78b6ab1",
   "metadata": {},
   "outputs": [
    {
     "name": "stdout",
     "output_type": "stream",
     "text": [
      "h\n",
      "e\n",
      "l\n",
      "l\n",
      "o\n",
      " \n",
      "w\n",
      "o\n",
      "r\n",
      "l\n",
      "d\n"
     ]
    }
   ],
   "source": [
    "a=\"hello world\"\n",
    "for ch in a:\n",
    "    print(ch)"
   ]
  },
  {
   "cell_type": "code",
   "execution_count": 14,
   "id": "8aae3951-5fb3-4710-a953-1337bb256ef9",
   "metadata": {},
   "outputs": [
    {
     "name": "stdout",
     "output_type": "stream",
     "text": [
      "given string: Carmen\n",
      "concatenated string: Carmen Brown\n"
     ]
    }
   ],
   "source": [
    "a=\"Carmen\"\n",
    "print(\"given string:\", a)\n",
    "new_string = a + \" \" \"Brown\"\n",
    "print(\"concatenated string:\", new_string)\n"
   ]
  },
  {
   "cell_type": "code",
   "execution_count": 17,
   "id": "9a1624d1-2ea1-4a56-a9cd-96b2e62bb1a5",
   "metadata": {},
   "outputs": [
    {
     "name": "stdout",
     "output_type": "stream",
     "text": [
      "given string: Hel\n",
      "string: Hello \n"
     ]
    }
   ],
   "source": [
    "#string slicing\n",
    "given_string = \"Hello World!\"\n",
    "substring= given_string[0:3]\n",
    "substring1=given_string[:6]\n",
    "print(\"given string:\", substring)\n",
    "print(\"string:\", substring1)"
   ]
  },
  {
   "cell_type": "code",
   "execution_count": 21,
   "id": "69a44182-a43b-438a-9e12-a38eeef36a37",
   "metadata": {},
   "outputs": [
    {
     "name": "stdout",
     "output_type": "stream",
     "text": [
      "\"world\" is in \"hello world\"\n"
     ]
    }
   ],
   "source": [
    "#using in operator\n",
    "a=\"hello world\"\n",
    "b=\"world\"\n",
    "if b in a:\n",
    "    print(f'\"{b}\" is in \"{a}\"')\n",
    "else:\n",
    "      print(f'\"{b}\"is not in \"{a}\"')"
   ]
  },
  {
   "cell_type": "code",
   "execution_count": 23,
   "id": "dd4d6bc9-34b6-464a-94de-d9bdbcd8743e",
   "metadata": {},
   "outputs": [
    {
     "name": "stdout",
     "output_type": "stream",
     "text": [
      "['1', '2', '3', '4', '5']\n"
     ]
    }
   ],
   "source": [
    "my1='1/2/3/4/5'\n",
    "num=my1.split('/')\n",
    "print(num)"
   ]
  },
  {
   "cell_type": "code",
   "execution_count": 24,
   "id": "e53c6874-709f-47f5-9be3-3084ed51add1",
   "metadata": {},
   "outputs": [
    {
     "name": "stdout",
     "output_type": "stream",
     "text": [
      "['peach col', ' is ', 'nage ', ' chocolate']\n"
     ]
    }
   ],
   "source": [
    "my2=\"peach color is ornage or chocolate\"\n",
    "num=my2.split('or')\n",
    "print(num)"
   ]
  },
  {
   "cell_type": "code",
   "execution_count": 25,
   "id": "f39f46e7-f6ac-48c9-bf4a-8c04fa02eabf",
   "metadata": {},
   "outputs": [
    {
     "name": "stdout",
     "output_type": "stream",
     "text": [
      "['1', '2', '3', '4', '5']\n"
     ]
    }
   ],
   "source": [
    "my1='1%2%3%4%5'\n",
    "num=my1.split('%')\n",
    "print(num)"
   ]
  },
  {
   "cell_type": "code",
   "execution_count": 26,
   "id": "3e9d517c-b6e6-417c-90fb-edbf631861e6",
   "metadata": {},
   "outputs": [
    {
     "name": "stdout",
     "output_type": "stream",
     "text": [
      "['peach color is ornage or chocolate ', ' i hate choloate']\n"
     ]
    }
   ],
   "source": [
    "my2=\"peach color is ornage or chocolate and i hate choloate\"\n",
    "num=my2.split('and')\n",
    "print(num)"
   ]
  },
  {
   "cell_type": "code",
   "execution_count": 27,
   "id": "6183b580-c88d-4da3-8fcd-0ffa453125c8",
   "metadata": {},
   "outputs": [
    {
     "name": "stdout",
     "output_type": "stream",
     "text": [
      "True\n"
     ]
    }
   ],
   "source": [
    "a=\"507\"\n",
    "x=a.isdigit()\n",
    "print(x)"
   ]
  },
  {
   "cell_type": "code",
   "execution_count": 28,
   "id": "12eb49c9-7ee4-4991-9338-a3f63b5a2f16",
   "metadata": {},
   "outputs": [
    {
     "name": "stdout",
     "output_type": "stream",
     "text": [
      "True\n"
     ]
    }
   ],
   "source": [
    "a=\"Ramya01\"\n",
    "x=a.isalnum()\n",
    "print(x)"
   ]
  },
  {
   "cell_type": "code",
   "execution_count": 30,
   "id": "75386ffc-a5cd-4bc6-bdfa-4ed4ab4c6015",
   "metadata": {},
   "outputs": [
    {
     "name": "stdout",
     "output_type": "stream",
     "text": [
      "True\n"
     ]
    }
   ],
   "source": [
    "a=\"hello world\"\n",
    "x=a.islower()\n",
    "print(x)"
   ]
  },
  {
   "cell_type": "code",
   "execution_count": 31,
   "id": "015fbd46-3a47-4def-9ff4-2726c2d20b08",
   "metadata": {},
   "outputs": [
    {
     "name": "stdout",
     "output_type": "stream",
     "text": [
      "True\n"
     ]
    }
   ],
   "source": [
    "a= \" \"\n",
    "x=a.isspace()\n",
    "print(x)"
   ]
  },
  {
   "cell_type": "code",
   "execution_count": 32,
   "id": "b3b4c0f2-5b09-474e-9092-a3f9435aa544",
   "metadata": {
    "scrolled": true
   },
   "outputs": [
    {
     "name": "stdout",
     "output_type": "stream",
     "text": [
      "True\n"
     ]
    }
   ],
   "source": [
    "a=\"RAMYA HAI\"\n",
    "x=a.isupper()\n",
    "print(x)"
   ]
  },
  {
   "cell_type": "code",
   "execution_count": 34,
   "id": "ad8d9466-16de-4562-892d-3b792afa5255",
   "metadata": {},
   "outputs": [
    {
     "name": "stdout",
     "output_type": "stream",
     "text": [
      "how are you ramya\n",
      "\"Hello Ramya\"\n",
      "\"Hello Ramya \"\n",
      "\"Hello Ramya\"\n"
     ]
    }
   ],
   "source": [
    "#string methods\n",
    "a=\"HOW ARE YOU RAMYA\"\n",
    "x=a.lower()\n",
    "print(x)\n",
    "\n",
    "#lstrip()\n",
    "\n",
    "a=\" Hello Ramya \"\n",
    "x=a.strip()\n",
    "left_strip=a.lstrip()\n",
    "right_strip=x.rstrip()\n",
    "print(f'\"{x}\"')\n",
    "print(f'\"{left_strip}\"')\n",
    "print(f'\"{right_strip}\"')"
   ]
  },
  {
   "cell_type": "code",
   "execution_count": 35,
   "id": "0ffc4feb-068d-4570-8d6c-3e498c34d219",
   "metadata": {},
   "outputs": [
    {
     "name": "stdout",
     "output_type": "stream",
     "text": [
      "True\n",
      "False\n"
     ]
    }
   ],
   "source": [
    "# starts with substring \n",
    "x=\"hello ramya\"\n",
    "r1=x.endswith(\"ramya\")\n",
    "r2=x.endswith(\"Ramya\")\n",
    "print(f'{r1}')\n",
    "print(f'{r2}')"
   ]
  },
  {
   "cell_type": "code",
   "execution_count": 37,
   "id": "1ab9bcd0-5b33-4dde-9021-9b08dfb7fb1d",
   "metadata": {},
   "outputs": [
    {
     "name": "stdout",
     "output_type": "stream",
     "text": [
      "6\n",
      "-1\n",
      "Hello Prof. Nikshep, How are you\n"
     ]
    }
   ],
   "source": [
    "#find substring\n",
    "x=\"Hello Ramya, How are you\"\n",
    "a=x.find(\"Ramya\")\n",
    "b=x.find(\"world\")\n",
    "\n",
    "# replace substring\n",
    "given_string = x.replace(\"Ramya\", \"Prof. Nikshep\")\n",
    "\n",
    "\n",
    "print(f'{a}')\n",
    "print(f'{b}')\n",
    "print(f'{given_string}')"
   ]
  },
  {
   "cell_type": "code",
   "execution_count": 38,
   "id": "be496a46-69e7-459d-bac0-c2bcb93ee6eb",
   "metadata": {},
   "outputs": [
    {
     "name": "stdout",
     "output_type": "stream",
     "text": [
      "hellohellohellohello\n"
     ]
    }
   ],
   "source": [
    "#repetition operator \n",
    "x=\"hello\"\n",
    "y=x*4\n",
    "print(f'{y}')"
   ]
  },
  {
   "cell_type": "code",
   "execution_count": null,
   "id": "836439a0-e0ba-44c3-a5d5-3443a28b006e",
   "metadata": {},
   "outputs": [],
   "source": [
    "#string tokens\n",
    "str=' peach raspe"
   ]
  }
 ],
 "metadata": {
  "kernelspec": {
   "display_name": "Python 3 (ipykernel)",
   "language": "python",
   "name": "python3"
  },
  "language_info": {
   "codemirror_mode": {
    "name": "ipython",
    "version": 3
   },
   "file_extension": ".py",
   "mimetype": "text/x-python",
   "name": "python",
   "nbconvert_exporter": "python",
   "pygments_lexer": "ipython3",
   "version": "3.12.1"
  }
 },
 "nbformat": 4,
 "nbformat_minor": 5
}
