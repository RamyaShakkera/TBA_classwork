{
 "cells": [
  {
   "cell_type": "markdown",
   "id": "e8df8119-8dab-4c15-b42b-fc7cdd39ea26",
   "metadata": {},
   "source": [
    "##  CS-651-B TEXT BASED ANALYSIS \n",
    "##  RAMYA - SHU ID 0935993\n",
    "##  WEEK 1 "
   ]
  },
  {
   "cell_type": "markdown",
   "id": "805a6c07-2e3b-46bb-bbef-8c92bd70441e",
   "metadata": {},
   "source": [
    "### Python Strings"
   ]
  },
  {
   "cell_type": "code",
   "execution_count": 3,
   "id": "518877cc-8f06-4253-955a-dc769887dcd7",
   "metadata": {},
   "outputs": [
    {
     "name": "stdout",
     "output_type": "stream",
     "text": [
      "hello\n"
     ]
    }
   ],
   "source": [
    "a=\"hello\"\n",
    "print(a)"
   ]
  },
  {
   "cell_type": "markdown",
   "id": "19f852a8-4578-4236-b453-5514bbbc53aa",
   "metadata": {},
   "source": [
    "### Accessing individual letters"
   ]
  },
  {
   "cell_type": "code",
   "execution_count": 2,
   "id": "6cc8576b-b4ee-4a42-a118-9db89aac4598",
   "metadata": {},
   "outputs": [
    {
     "name": "stdout",
     "output_type": "stream",
     "text": [
      "e\n",
      "llo\n"
     ]
    }
   ],
   "source": [
    "a=\"hello, world!\"\n",
    "#prints the character at index 1 \n",
    "print(a[1])\n",
    "#extracts a substring from index 2 to 4 (excluding 5) \n",
    "b=\"hello , world!\"\n",
    "print(b[2:5])"
   ]
  },
  {
   "cell_type": "markdown",
   "id": "15630fe4-6d53-4473-b0c7-5752e55d0141",
   "metadata": {},
   "source": [
    "### More String Functions"
   ]
  },
  {
   "cell_type": "code",
   "execution_count": 4,
   "id": "d4ea4426-7e4d-4835-a130-b5d4da2214d0",
   "metadata": {},
   "outputs": [
    {
     "name": "stdout",
     "output_type": "stream",
     "text": [
      "13\n",
      "HELLO, WORLD!\n",
      "hello, world!\n",
      "jello, world!\n"
     ]
    }
   ],
   "source": [
    "a=\"hello, world!\"\n",
    "\n",
    "#determine the length of the string\n",
    "print(len(a))\n",
    "\n",
    "#upper() method is used to convert all the characters in the string to uppercase.\n",
    "print(a.upper())\n",
    "\n",
    "#lower() method is used to convert all the characters in the string to lowercase\n",
    "print(a.lower())\n",
    "\n",
    "#replace() method is used to replace a specified substring with another substring.\n",
    "print(a.replace(\"h\",\"j\"))"
   ]
  },
  {
   "cell_type": "markdown",
   "id": "cf3e0fa8-1e59-4e3e-a7ac-f8a87aad5157",
   "metadata": {},
   "source": [
    "### String concatenation"
   ]
  },
  {
   "cell_type": "code",
   "execution_count": 6,
   "id": "a0bd5386-b726-44f8-a460-ff495c4be3c0",
   "metadata": {},
   "outputs": [
    {
     "name": "stdout",
     "output_type": "stream",
     "text": [
      "Hello World\n"
     ]
    }
   ],
   "source": [
    "a=\"Hello\"\n",
    "b=\"World\"\n",
    "c= a + \" \" + b\n",
    "#combines the strings \"Hello\" and \"World\" with a space in between, creating a new string \"Hello World\",\n",
    "print(c)"
   ]
  },
  {
   "cell_type": "code",
   "execution_count": 5,
   "id": "9a854736-6fdd-4bac-8d7e-d976f78b6ab1",
   "metadata": {},
   "outputs": [
    {
     "name": "stdout",
     "output_type": "stream",
     "text": [
      "h\n",
      "e\n",
      "l\n",
      "l\n",
      "o\n",
      " \n",
      "w\n",
      "o\n",
      "r\n",
      "l\n",
      "d\n"
     ]
    }
   ],
   "source": [
    "a=\"hello world\"\n",
    "# for loop to iterate through each character in the string\n",
    "for ch in a:\n",
    "# prints each character on a new line.\n",
    "    print(ch)"
   ]
  },
  {
   "cell_type": "markdown",
   "id": "67c1ac3d-4f52-449a-8551-5a738717eb6b",
   "metadata": {},
   "source": [
    "### Strings are immutable (once they are created, thet cannot be changed)\n"
   ]
  },
  {
   "cell_type": "code",
   "execution_count": 6,
   "id": "8aae3951-5fb3-4710-a953-1337bb256ef9",
   "metadata": {},
   "outputs": [
    {
     "name": "stdout",
     "output_type": "stream",
     "text": [
      "given string: Carmen\n",
      "concatenated string: Carmen Brown\n"
     ]
    }
   ],
   "source": [
    "a=\"Carmen\"\n",
    "print(\"given string:\", a)\n",
    "# concatenation doesn't actually change the existing string but rather creates a new string and assigns the new string\n",
    "new_string = a + \" \" \"Brown\"\n",
    "# prints the original string \"Carmen\", concatenates it with the string \"Brown\"\n",
    "print(\"concatenated string:\", new_string)\n"
   ]
  },
  {
   "cell_type": "markdown",
   "id": "95058270-9002-4ac2-bf34-8058bbf6e78a",
   "metadata": {},
   "source": [
    "### String Slicing (span of items taken from a sequence, known as substring)"
   ]
  },
  {
   "cell_type": "code",
   "execution_count": 13,
   "id": "9a1624d1-2ea1-4a56-a9cd-96b2e62bb1a5",
   "metadata": {},
   "outputs": [
    {
     "name": "stdout",
     "output_type": "stream",
     "text": [
      "given string: Hel\n",
      "string: Hello \n"
     ]
    }
   ],
   "source": [
    "\n",
    "given_string = \"Hello World!\"\n",
    "# extracts characters from index 0 to 2\n",
    "substring= given_string[0:3]\n",
    "# the slice given_string[:6] extracts characters from the beginning up to index 5\n",
    "substring1=given_string[:6]\n",
    "print(\"given string:\", substring)\n",
    "print(\"string:\", substring1)"
   ]
  },
  {
   "cell_type": "markdown",
   "id": "bbff7749-b39b-47b3-98b5-b0263b125f9c",
   "metadata": {},
   "source": [
    "### Testing, Searching , and Manipulating Strings"
   ]
  },
  {
   "cell_type": "code",
   "execution_count": 21,
   "id": "69a44182-a43b-438a-9e12-a38eeef36a37",
   "metadata": {},
   "outputs": [
    {
     "name": "stdout",
     "output_type": "stream",
     "text": [
      "\"world\" is in \"hello world\"\n"
     ]
    }
   ],
   "source": [
    "# using in operator\n",
    "a=\"hello world\"\n",
    "b=\"world\"\n",
    "if b in a:\n",
    "    print(f'\"{b}\" is in \"{a}\"')\n",
    "    #uses the in operator to check if the substring \"world\" is present in the string \"hello world\" \n",
    "else:\n",
    "      print(f'\"{b}\"is not in \"{a}\"')"
   ]
  },
  {
   "cell_type": "markdown",
   "id": "ea162f3e-e186-4f3f-b837-b731e3936ae6",
   "metadata": {},
   "source": [
    "### String Methods"
   ]
  },
  {
   "cell_type": "code",
   "execution_count": 16,
   "id": "f76234ee-7c04-4232-b6b2-e5b3abeece78",
   "metadata": {},
   "outputs": [
    {
     "name": "stdout",
     "output_type": "stream",
     "text": [
      "True\n"
     ]
    }
   ],
   "source": [
    "#a=\"Ramya01\"\n",
    "x=a.isalnum()\n",
    "print(x)"
   ]
  },
  {
   "cell_type": "code",
   "execution_count": 22,
   "id": "2c8b62e3-c95e-4573-982a-08726c6bcf3c",
   "metadata": {},
   "outputs": [
    {
     "name": "stdout",
     "output_type": "stream",
     "text": [
      "True\n"
     ]
    }
   ],
   "source": [
    "# isalpha\n",
    "a = \"RamyaS\"\n",
    "x = a.isalpha()\n",
    "print(x)"
   ]
  },
  {
   "cell_type": "code",
   "execution_count": 17,
   "id": "b8475d41-a8ff-4bc4-a791-1e5101a0f3ee",
   "metadata": {},
   "outputs": [
    {
     "name": "stdout",
     "output_type": "stream",
     "text": [
      "True\n"
     ]
    }
   ],
   "source": [
    "a=\"507\"\n",
    "x=a.isdigit()\n",
    "print(x)"
   ]
  },
  {
   "cell_type": "code",
   "execution_count": 18,
   "id": "4e9c7a49-fe96-482c-9bf0-95138e131ff8",
   "metadata": {},
   "outputs": [
    {
     "name": "stdout",
     "output_type": "stream",
     "text": [
      "True\n"
     ]
    }
   ],
   "source": [
    "a=\"hello world\"\n",
    "x=a.islower()\n",
    "print(x)"
   ]
  },
  {
   "cell_type": "code",
   "execution_count": 19,
   "id": "c8acfc2f-d916-403c-a41f-9efa4f4a29fd",
   "metadata": {},
   "outputs": [
    {
     "name": "stdout",
     "output_type": "stream",
     "text": [
      "True\n"
     ]
    }
   ],
   "source": [
    "a= \" \"\n",
    "x=a.isspace()\n",
    "print(x)"
   ]
  },
  {
   "cell_type": "code",
   "execution_count": 20,
   "id": "9ce84d72-10c6-403a-8948-e8918011f694",
   "metadata": {},
   "outputs": [
    {
     "name": "stdout",
     "output_type": "stream",
     "text": [
      "True\n"
     ]
    }
   ],
   "source": [
    "a=\"RAMYA HI\"\n",
    "x=a.isupper()\n",
    "print(x)"
   ]
  },
  {
   "cell_type": "code",
   "execution_count": 23,
   "id": "e3d3d046-13e2-434b-9569-5957652a4d43",
   "metadata": {},
   "outputs": [
    {
     "name": "stdout",
     "output_type": "stream",
     "text": [
      "True\n",
      "False\n"
     ]
    }
   ],
   "source": [
    "# starts with substring \n",
    "x=\"hello ramya\"\n",
    "r1=x.endswith(\"ramya\")\n",
    "r2=x.endswith(\"Ramya\")\n",
    "print(f'{r1}')\n",
    "print(f'{r2}')"
   ]
  },
  {
   "cell_type": "code",
   "execution_count": 24,
   "id": "efb43c04-3b39-4dd7-ae27-b7766b275396",
   "metadata": {},
   "outputs": [
    {
     "name": "stdout",
     "output_type": "stream",
     "text": [
      "6\n",
      "-1\n",
      "Hello Prof. Nikshep, How are you\n"
     ]
    }
   ],
   "source": [
    "#find substring\n",
    "x=\"Hello Ramya, How are you\"\n",
    "a=x.find(\"Ramya\")\n",
    "b=x.find(\"world\")\n",
    "\n",
    "# replace substring\n",
    "given_string = x.replace(\"Ramya\", \"Prof. Nikshep\")\n",
    "print(f'{a}')\n",
    "print(f'{b}')\n",
    "print(f'{given_string}')"
   ]
  },
  {
   "cell_type": "markdown",
   "id": "f00941b7-20af-457c-ba1d-aab4e75f1bc4",
   "metadata": {},
   "source": [
    "### Repetition Operator"
   ]
  },
  {
   "cell_type": "code",
   "execution_count": 25,
   "id": "ef05ad24-d0ab-4831-81e4-9eecc66cff9c",
   "metadata": {},
   "outputs": [
    {
     "name": "stdout",
     "output_type": "stream",
     "text": [
      "hellohellohellohello\n"
     ]
    }
   ],
   "source": [
    "#repetition operator \n",
    "x=\"hello\"\n",
    "y=x*4\n",
    "print(f'{y}')"
   ]
  },
  {
   "cell_type": "markdown",
   "id": "b5415ff7-2187-44f0-afcf-2a94a85c982c",
   "metadata": {},
   "source": [
    "###  Spliting a String"
   ]
  },
  {
   "cell_type": "code",
   "execution_count": 23,
   "id": "dd4d6bc9-34b6-464a-94de-d9bdbcd8743e",
   "metadata": {},
   "outputs": [
    {
     "name": "stdout",
     "output_type": "stream",
     "text": [
      "['1', '2', '3', '4', '5']\n"
     ]
    }
   ],
   "source": [
    "my1='1/2/3/4/5'\n",
    "num=my1.split('/')\n",
    "print(num)"
   ]
  },
  {
   "cell_type": "code",
   "execution_count": 24,
   "id": "e53c6874-709f-47f5-9be3-3084ed51add1",
   "metadata": {},
   "outputs": [
    {
     "name": "stdout",
     "output_type": "stream",
     "text": [
      "['peach col', ' is ', 'nage ', ' chocolate']\n"
     ]
    }
   ],
   "source": [
    "my2=\"peach color is ornage or chocolate\"\n",
    "num=my2.split('or')\n",
    "print(num)"
   ]
  },
  {
   "cell_type": "markdown",
   "id": "9230fd0a-e3dc-4e38-92b1-78ec5affd0ab",
   "metadata": {},
   "source": [
    "### String tokens"
   ]
  },
  {
   "cell_type": "code",
   "execution_count": 25,
   "id": "f39f46e7-f6ac-48c9-bf4a-8c04fa02eabf",
   "metadata": {},
   "outputs": [
    {
     "name": "stdout",
     "output_type": "stream",
     "text": [
      "['1', '2', '3', '4', '5']\n"
     ]
    }
   ],
   "source": [
    "my1='1%2%3%4%5'\n",
    "num=my1.split('%')\n",
    "print(num)"
   ]
  },
  {
   "cell_type": "code",
   "execution_count": 26,
   "id": "3e9d517c-b6e6-417c-90fb-edbf631861e6",
   "metadata": {},
   "outputs": [
    {
     "name": "stdout",
     "output_type": "stream",
     "text": [
      "['peach color is ornage or chocolate ', ' i hate choloate']\n"
     ]
    }
   ],
   "source": [
    "my2=\"peach color is ornage or chocolate and i hate choloate\"\n",
    "num=my2.split('and')\n",
    "print(num)"
   ]
  },
  {
   "cell_type": "code",
   "execution_count": 34,
   "id": "ad8d9466-16de-4562-892d-3b792afa5255",
   "metadata": {},
   "outputs": [
    {
     "name": "stdout",
     "output_type": "stream",
     "text": [
      "how are you ramya\n",
      "\"Hello Ramya\"\n",
      "\"Hello Ramya \"\n",
      "\"Hello Ramya\"\n"
     ]
    }
   ],
   "source": [
    "a=\"HOW ARE YOU RAMYA\"\n",
    "x=a.lower()\n",
    "print(x)\n",
    "\n",
    "#lstrip()\n",
    "\n",
    "a=\" Hello Ramya \"\n",
    "x=a.strip()\n",
    "left_strip=a.lstrip()\n",
    "right_strip=x.rstrip()\n",
    "print(f'\"{x}\"')\n",
    "print(f'\"{left_strip}\"')\n",
    "print(f'\"{right_strip}\"')"
   ]
  },
  {
   "cell_type": "code",
   "execution_count": 40,
   "id": "836439a0-e0ba-44c3-a5d5-3443a28b006e",
   "metadata": {},
   "outputs": [
    {
     "name": "stdout",
     "output_type": "stream",
     "text": [
      "['peach', 'raspberry', 'strawberry', 'vanilla']\n"
     ]
    }
   ],
   "source": [
    "#string tokens\n",
    "str=' peach raspberry strawberry vanilla'\n",
    "token=str.split()\n",
    "print(token)"
   ]
  }
 ],
 "metadata": {
  "kernelspec": {
   "display_name": "Python 3 (ipykernel)",
   "language": "python",
   "name": "python3"
  },
  "language_info": {
   "codemirror_mode": {
    "name": "ipython",
    "version": 3
   },
   "file_extension": ".py",
   "mimetype": "text/x-python",
   "name": "python",
   "nbconvert_exporter": "python",
   "pygments_lexer": "ipython3",
   "version": "3.12.1"
  }
 },
 "nbformat": 4,
 "nbformat_minor": 5
}
